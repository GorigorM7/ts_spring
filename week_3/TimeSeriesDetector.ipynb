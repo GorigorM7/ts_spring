{
 "cells": [
  {
   "cell_type": "code",
   "execution_count": 47,
   "id": "southeast-monday",
   "metadata": {},
   "outputs": [
    {
     "name": "stdout",
     "output_type": "stream",
     "text": [
      "The autoreload extension is already loaded. To reload it, use:\n",
      "  %reload_ext autoreload\n"
     ]
    }
   ],
   "source": [
    "%load_ext autoreload\n",
    "%autoreload 2"
   ]
  },
  {
   "cell_type": "code",
   "execution_count": 48,
   "id": "friendly-final",
   "metadata": {},
   "outputs": [],
   "source": [
    "import sys\n",
    "from pathlib import Path\n",
    "\n",
    "sys.path.append(str(Path().cwd().parent))"
   ]
  },
  {
   "cell_type": "code",
   "execution_count": 68,
   "id": "improved-above",
   "metadata": {},
   "outputs": [],
   "source": [
    "from plotting import plot_ts"
   ]
  },
  {
   "cell_type": "markdown",
   "id": "offensive-chosen",
   "metadata": {},
   "source": [
    "### Возьмем временной ряд"
   ]
  },
  {
   "cell_type": "code",
   "execution_count": 49,
   "id": "amber-overall",
   "metadata": {},
   "outputs": [],
   "source": [
    "from load_dataset import Dataset"
   ]
  },
  {
   "cell_type": "code",
   "execution_count": 50,
   "id": "surprised-walker",
   "metadata": {},
   "outputs": [],
   "source": [
    "ds = Dataset('../data/dataset/')"
   ]
  },
  {
   "cell_type": "code",
   "execution_count": 51,
   "id": "personal-manner",
   "metadata": {},
   "outputs": [],
   "source": [
    "ts = ds['daily-min-temperatures.csv']"
   ]
  },
  {
   "cell_type": "markdown",
   "id": "interstate-taste",
   "metadata": {},
   "source": [
    "### Cоздание инстанса"
   ]
  },
  {
   "cell_type": "code",
   "execution_count": 52,
   "id": "intimate-halloween",
   "metadata": {},
   "outputs": [],
   "source": [
    "from model import TimeSeriesPredictor"
   ]
  },
  {
   "cell_type": "markdown",
   "id": "adjustable-learning",
   "metadata": {},
   "source": [
    "в качестве обязательных параметров принимает частоту ряда в формате iso8601\n",
    "и количество лагов для построения модели - granularity и num_lags"
   ]
  },
  {
   "cell_type": "code",
   "execution_count": 53,
   "id": "everyday-wayne",
   "metadata": {},
   "outputs": [],
   "source": [
    "predictor = TimeSeriesPredictor('P1D', 365)"
   ]
  },
  {
   "cell_type": "markdown",
   "id": "related-spain",
   "metadata": {},
   "source": [
    "также predictor'y можно передать параметр model, чтобы использовать конкретную модель для прогнозирования, модель может быть любым sklearn-совместимым эстиматором"
   ]
  },
  {
   "cell_type": "code",
   "execution_count": 54,
   "id": "honest-thumb",
   "metadata": {},
   "outputs": [],
   "source": [
    "from sklearn.ensemble import GradientBoostingRegressor\n",
    "\n",
    "predictor = TimeSeriesPredictor('P1D', 365, model=GradientBoostingRegressor)"
   ]
  },
  {
   "cell_type": "markdown",
   "id": "worse-anger",
   "metadata": {},
   "source": [
    "model по умолчанию - LinearRegression"
   ]
  },
  {
   "cell_type": "code",
   "execution_count": 55,
   "id": "automotive-fortune",
   "metadata": {},
   "outputs": [
    {
     "data": {
      "text/plain": [
       "LinearRegression()"
      ]
     },
     "execution_count": 55,
     "metadata": {},
     "output_type": "execute_result"
    }
   ],
   "source": [
    "predictor = TimeSeriesPredictor('P1D', 365)\n",
    "predictor.model"
   ]
  },
  {
   "cell_type": "markdown",
   "id": "valuable-ontario",
   "metadata": {},
   "source": [
    "также для передачи дополнительной информации в модель вы можете использовать параметр mappers куда нужно передать ваши функции, принимающие timestamp и возвращающие для него значение вашего доп признака"
   ]
  },
  {
   "cell_type": "code",
   "execution_count": 56,
   "id": "covered-louisiana",
   "metadata": {},
   "outputs": [],
   "source": [
    "def get_hour(timestamp):\n",
    "    return timestamp.hour\n",
    "\n",
    "external_features = {\n",
    "    'hour': get_hour\n",
    "}\n",
    "\n",
    "predictor = TimeSeriesPredictor('P1D', 365, mappers=external_features)"
   ]
  },
  {
   "cell_type": "markdown",
   "id": "cellular-carrier",
   "metadata": {},
   "source": [
    "Помимо основных параметровв модель также можно передать любое произвольно количество именованных аргументов **kwargs, которые будут переданы в конструктор `model`"
   ]
  },
  {
   "cell_type": "code",
   "execution_count": 57,
   "id": "personal-hacker",
   "metadata": {},
   "outputs": [],
   "source": [
    "from sklearn.ensemble import GradientBoostingRegressor\n",
    "\n",
    "predictor = TimeSeriesPredictor('P1D', 365, model=GradientBoostingRegressor, max_depth=6, n_estimators=1000)"
   ]
  },
  {
   "cell_type": "markdown",
   "id": "secure-paragraph",
   "metadata": {},
   "source": [
    "### Получение и установка параметров и функционал get/set params"
   ]
  },
  {
   "cell_type": "markdown",
   "id": "tender-batch",
   "metadata": {},
   "source": [
    "классическое получение и задание аттрибутов"
   ]
  },
  {
   "cell_type": "code",
   "execution_count": 58,
   "id": "empty-table",
   "metadata": {},
   "outputs": [
    {
     "data": {
      "text/plain": [
       "0.1"
      ]
     },
     "execution_count": 58,
     "metadata": {},
     "output_type": "execute_result"
    }
   ],
   "source": [
    "predictor.num_lags\n",
    "predictor.model\n",
    "predictor.model.learning_rate"
   ]
  },
  {
   "cell_type": "code",
   "execution_count": 59,
   "id": "comic-trace",
   "metadata": {},
   "outputs": [],
   "source": [
    "predictor.model.learning_rate = 0.2"
   ]
  },
  {
   "cell_type": "code",
   "execution_count": 60,
   "id": "psychological-replication",
   "metadata": {},
   "outputs": [
    {
     "data": {
      "text/plain": [
       "0.2"
      ]
     },
     "execution_count": 60,
     "metadata": {},
     "output_type": "execute_result"
    }
   ],
   "source": [
    "predictor.model.learning_rate"
   ]
  },
  {
   "cell_type": "markdown",
   "id": "neither-electric",
   "metadata": {},
   "source": [
    "метод get_params получает словарь всех параметров модели включая sub-параметры модели, в таком случае они идут с префиксом\n",
    "`model__`"
   ]
  },
  {
   "cell_type": "code",
   "execution_count": 61,
   "id": "smoking-vanilla",
   "metadata": {},
   "outputs": [
    {
     "data": {
      "text/plain": [
       "{'granularity': 'P1D',\n",
       " 'mappers': {},\n",
       " 'model__alpha': 0.9,\n",
       " 'model__ccp_alpha': 0.0,\n",
       " 'model__criterion': 'friedman_mse',\n",
       " 'model__init': None,\n",
       " 'model__learning_rate': 0.2,\n",
       " 'model__loss': 'ls',\n",
       " 'model__max_depth': 6,\n",
       " 'model__max_features': None,\n",
       " 'model__max_leaf_nodes': None,\n",
       " 'model__min_impurity_decrease': 0.0,\n",
       " 'model__min_impurity_split': None,\n",
       " 'model__min_samples_leaf': 1,\n",
       " 'model__min_samples_split': 2,\n",
       " 'model__min_weight_fraction_leaf': 0.0,\n",
       " 'model__n_estimators': 1000,\n",
       " 'model__n_iter_no_change': None,\n",
       " 'model__random_state': None,\n",
       " 'model__subsample': 1.0,\n",
       " 'model__tol': 0.0001,\n",
       " 'model__validation_fraction': 0.1,\n",
       " 'model__verbose': 0,\n",
       " 'model__warm_start': False,\n",
       " 'model': GradientBoostingRegressor(learning_rate=0.2, max_depth=6, n_estimators=1000),\n",
       " 'num_lags': 365}"
      ]
     },
     "execution_count": 61,
     "metadata": {},
     "output_type": "execute_result"
    }
   ],
   "source": [
    "predictor.get_params()"
   ]
  },
  {
   "cell_type": "markdown",
   "id": "tropical-roman",
   "metadata": {},
   "source": [
    "метод set_params реализует обратную логику, принимая набор параметров для установки, включая sub-параметры модели, в таком случае их нужно указывать с префиксом `model__`"
   ]
  },
  {
   "cell_type": "code",
   "execution_count": 62,
   "id": "comic-zoning",
   "metadata": {},
   "outputs": [
    {
     "data": {
      "text/plain": [
       "<model.TimeSeriesPredictor at 0x1309be940>"
      ]
     },
     "execution_count": 62,
     "metadata": {},
     "output_type": "execute_result"
    }
   ],
   "source": [
    "from sklearn.ensemble import RandomForestRegressor\n",
    "\n",
    "\n",
    "params = {\n",
    "    'num_lags': 730,\n",
    "    'model': RandomForestRegressor(),  # обратите внимание, что в данном случае требуется создать инстанс модели!!\n",
    "    'model__max_depth': 3,\n",
    "    'model__n_estimators': 400,\n",
    "}\n",
    "\n",
    "predictor.set_params(**params)  # параметры необходимо распаковать"
   ]
  },
  {
   "cell_type": "code",
   "execution_count": 63,
   "id": "cross-belly",
   "metadata": {},
   "outputs": [
    {
     "data": {
      "text/plain": [
       "{'granularity': 'P1D',\n",
       " 'mappers': {},\n",
       " 'model__bootstrap': True,\n",
       " 'model__ccp_alpha': 0.0,\n",
       " 'model__criterion': 'mse',\n",
       " 'model__max_depth': 3,\n",
       " 'model__max_features': 'auto',\n",
       " 'model__max_leaf_nodes': None,\n",
       " 'model__max_samples': None,\n",
       " 'model__min_impurity_decrease': 0.0,\n",
       " 'model__min_impurity_split': None,\n",
       " 'model__min_samples_leaf': 1,\n",
       " 'model__min_samples_split': 2,\n",
       " 'model__min_weight_fraction_leaf': 0.0,\n",
       " 'model__n_estimators': 400,\n",
       " 'model__n_jobs': None,\n",
       " 'model__oob_score': False,\n",
       " 'model__random_state': None,\n",
       " 'model__verbose': 0,\n",
       " 'model__warm_start': False,\n",
       " 'model': RandomForestRegressor(max_depth=3, n_estimators=400),\n",
       " 'num_lags': 730}"
      ]
     },
     "execution_count": 63,
     "metadata": {},
     "output_type": "execute_result"
    }
   ],
   "source": [
    "predictor.get_params()"
   ]
  },
  {
   "cell_type": "markdown",
   "id": "plastic-fantasy",
   "metadata": {},
   "source": [
    "###  Обучение модели"
   ]
  },
  {
   "cell_type": "markdown",
   "id": "selected-generic",
   "metadata": {},
   "source": [
    "в данном случае на вход подается временной ряд в формате pd.Series"
   ]
  },
  {
   "cell_type": "code",
   "execution_count": 64,
   "id": "radical-neutral",
   "metadata": {},
   "outputs": [],
   "source": [
    "split_idx = int(len(ts) * 0.7)\n",
    "\n",
    "ts_train, ts_test = ts[:split_idx], ts[split_idx:]"
   ]
  },
  {
   "cell_type": "code",
   "execution_count": 65,
   "id": "italian-andorra",
   "metadata": {},
   "outputs": [],
   "source": [
    "predictor.fit(ts_train)"
   ]
  },
  {
   "cell_type": "markdown",
   "id": "least-prize",
   "metadata": {},
   "source": [
    "### Получение out-of-sample прогноза"
   ]
  },
  {
   "cell_type": "markdown",
   "id": "encouraging-howard",
   "metadata": {},
   "source": [
    "на вход подаем временной ряд от которого нужно сделать прогноз (длинной минимум num_lags) + горизонт прогнозирования"
   ]
  },
  {
   "cell_type": "code",
   "execution_count": 72,
   "id": "selected-summary",
   "metadata": {},
   "outputs": [],
   "source": [
    "from sklearn.metrics import mean_squared_error as mse"
   ]
  },
  {
   "cell_type": "code",
   "execution_count": 73,
   "id": "italian-frank",
   "metadata": {},
   "outputs": [],
   "source": [
    "preds = predictor.predict_next(ts_train, n_steps=len(ts_test))"
   ]
  },
  {
   "cell_type": "code",
   "execution_count": 69,
   "id": "senior-reach",
   "metadata": {},
   "outputs": [
    {
     "data": {
      "text/html": [
       "\n",
       "    <div class=\"bk-root\">\n",
       "        <a href=\"https://bokeh.org\" target=\"_blank\" class=\"bk-logo bk-logo-small bk-logo-notebook\"></a>\n",
       "        <span id=\"1002\">Loading BokehJS ...</span>\n",
       "    </div>"
      ]
     },
     "metadata": {},
     "output_type": "display_data"
    },
    {
     "data": {
      "application/javascript": [
       "\n",
       "(function(root) {\n",
       "  function now() {\n",
       "    return new Date();\n",
       "  }\n",
       "\n",
       "  var force = true;\n",
       "\n",
       "  if (typeof root._bokeh_onload_callbacks === \"undefined\" || force === true) {\n",
       "    root._bokeh_onload_callbacks = [];\n",
       "    root._bokeh_is_loading = undefined;\n",
       "  }\n",
       "\n",
       "  var JS_MIME_TYPE = 'application/javascript';\n",
       "  var HTML_MIME_TYPE = 'text/html';\n",
       "  var EXEC_MIME_TYPE = 'application/vnd.bokehjs_exec.v0+json';\n",
       "  var CLASS_NAME = 'output_bokeh rendered_html';\n",
       "\n",
       "  /**\n",
       "   * Render data to the DOM node\n",
       "   */\n",
       "  function render(props, node) {\n",
       "    var script = document.createElement(\"script\");\n",
       "    node.appendChild(script);\n",
       "  }\n",
       "\n",
       "  /**\n",
       "   * Handle when an output is cleared or removed\n",
       "   */\n",
       "  function handleClearOutput(event, handle) {\n",
       "    var cell = handle.cell;\n",
       "\n",
       "    var id = cell.output_area._bokeh_element_id;\n",
       "    var server_id = cell.output_area._bokeh_server_id;\n",
       "    // Clean up Bokeh references\n",
       "    if (id != null && id in Bokeh.index) {\n",
       "      Bokeh.index[id].model.document.clear();\n",
       "      delete Bokeh.index[id];\n",
       "    }\n",
       "\n",
       "    if (server_id !== undefined) {\n",
       "      // Clean up Bokeh references\n",
       "      var cmd = \"from bokeh.io.state import curstate; print(curstate().uuid_to_server['\" + server_id + \"'].get_sessions()[0].document.roots[0]._id)\";\n",
       "      cell.notebook.kernel.execute(cmd, {\n",
       "        iopub: {\n",
       "          output: function(msg) {\n",
       "            var id = msg.content.text.trim();\n",
       "            if (id in Bokeh.index) {\n",
       "              Bokeh.index[id].model.document.clear();\n",
       "              delete Bokeh.index[id];\n",
       "            }\n",
       "          }\n",
       "        }\n",
       "      });\n",
       "      // Destroy server and session\n",
       "      var cmd = \"import bokeh.io.notebook as ion; ion.destroy_server('\" + server_id + \"')\";\n",
       "      cell.notebook.kernel.execute(cmd);\n",
       "    }\n",
       "  }\n",
       "\n",
       "  /**\n",
       "   * Handle when a new output is added\n",
       "   */\n",
       "  function handleAddOutput(event, handle) {\n",
       "    var output_area = handle.output_area;\n",
       "    var output = handle.output;\n",
       "\n",
       "    // limit handleAddOutput to display_data with EXEC_MIME_TYPE content only\n",
       "    if ((output.output_type != \"display_data\") || (!Object.prototype.hasOwnProperty.call(output.data, EXEC_MIME_TYPE))) {\n",
       "      return\n",
       "    }\n",
       "\n",
       "    var toinsert = output_area.element.find(\".\" + CLASS_NAME.split(' ')[0]);\n",
       "\n",
       "    if (output.metadata[EXEC_MIME_TYPE][\"id\"] !== undefined) {\n",
       "      toinsert[toinsert.length - 1].firstChild.textContent = output.data[JS_MIME_TYPE];\n",
       "      // store reference to embed id on output_area\n",
       "      output_area._bokeh_element_id = output.metadata[EXEC_MIME_TYPE][\"id\"];\n",
       "    }\n",
       "    if (output.metadata[EXEC_MIME_TYPE][\"server_id\"] !== undefined) {\n",
       "      var bk_div = document.createElement(\"div\");\n",
       "      bk_div.innerHTML = output.data[HTML_MIME_TYPE];\n",
       "      var script_attrs = bk_div.children[0].attributes;\n",
       "      for (var i = 0; i < script_attrs.length; i++) {\n",
       "        toinsert[toinsert.length - 1].firstChild.setAttribute(script_attrs[i].name, script_attrs[i].value);\n",
       "        toinsert[toinsert.length - 1].firstChild.textContent = bk_div.children[0].textContent\n",
       "      }\n",
       "      // store reference to server id on output_area\n",
       "      output_area._bokeh_server_id = output.metadata[EXEC_MIME_TYPE][\"server_id\"];\n",
       "    }\n",
       "  }\n",
       "\n",
       "  function register_renderer(events, OutputArea) {\n",
       "\n",
       "    function append_mime(data, metadata, element) {\n",
       "      // create a DOM node to render to\n",
       "      var toinsert = this.create_output_subarea(\n",
       "        metadata,\n",
       "        CLASS_NAME,\n",
       "        EXEC_MIME_TYPE\n",
       "      );\n",
       "      this.keyboard_manager.register_events(toinsert);\n",
       "      // Render to node\n",
       "      var props = {data: data, metadata: metadata[EXEC_MIME_TYPE]};\n",
       "      render(props, toinsert[toinsert.length - 1]);\n",
       "      element.append(toinsert);\n",
       "      return toinsert\n",
       "    }\n",
       "\n",
       "    /* Handle when an output is cleared or removed */\n",
       "    events.on('clear_output.CodeCell', handleClearOutput);\n",
       "    events.on('delete.Cell', handleClearOutput);\n",
       "\n",
       "    /* Handle when a new output is added */\n",
       "    events.on('output_added.OutputArea', handleAddOutput);\n",
       "\n",
       "    /**\n",
       "     * Register the mime type and append_mime function with output_area\n",
       "     */\n",
       "    OutputArea.prototype.register_mime_type(EXEC_MIME_TYPE, append_mime, {\n",
       "      /* Is output safe? */\n",
       "      safe: true,\n",
       "      /* Index of renderer in `output_area.display_order` */\n",
       "      index: 0\n",
       "    });\n",
       "  }\n",
       "\n",
       "  // register the mime type if in Jupyter Notebook environment and previously unregistered\n",
       "  if (root.Jupyter !== undefined) {\n",
       "    var events = require('base/js/events');\n",
       "    var OutputArea = require('notebook/js/outputarea').OutputArea;\n",
       "\n",
       "    if (OutputArea.prototype.mime_types().indexOf(EXEC_MIME_TYPE) == -1) {\n",
       "      register_renderer(events, OutputArea);\n",
       "    }\n",
       "  }\n",
       "\n",
       "  \n",
       "  if (typeof (root._bokeh_timeout) === \"undefined\" || force === true) {\n",
       "    root._bokeh_timeout = Date.now() + 5000;\n",
       "    root._bokeh_failed_load = false;\n",
       "  }\n",
       "\n",
       "  var NB_LOAD_WARNING = {'data': {'text/html':\n",
       "     \"<div style='background-color: #fdd'>\\n\"+\n",
       "     \"<p>\\n\"+\n",
       "     \"BokehJS does not appear to have successfully loaded. If loading BokehJS from CDN, this \\n\"+\n",
       "     \"may be due to a slow or bad network connection. Possible fixes:\\n\"+\n",
       "     \"</p>\\n\"+\n",
       "     \"<ul>\\n\"+\n",
       "     \"<li>re-rerun `output_notebook()` to attempt to load from CDN again, or</li>\\n\"+\n",
       "     \"<li>use INLINE resources instead, as so:</li>\\n\"+\n",
       "     \"</ul>\\n\"+\n",
       "     \"<code>\\n\"+\n",
       "     \"from bokeh.resources import INLINE\\n\"+\n",
       "     \"output_notebook(resources=INLINE)\\n\"+\n",
       "     \"</code>\\n\"+\n",
       "     \"</div>\"}};\n",
       "\n",
       "  function display_loaded() {\n",
       "    var el = document.getElementById(\"1002\");\n",
       "    if (el != null) {\n",
       "      el.textContent = \"BokehJS is loading...\";\n",
       "    }\n",
       "    if (root.Bokeh !== undefined) {\n",
       "      if (el != null) {\n",
       "        el.textContent = \"BokehJS \" + root.Bokeh.version + \" successfully loaded.\";\n",
       "      }\n",
       "    } else if (Date.now() < root._bokeh_timeout) {\n",
       "      setTimeout(display_loaded, 100)\n",
       "    }\n",
       "  }\n",
       "\n",
       "\n",
       "  function run_callbacks() {\n",
       "    try {\n",
       "      root._bokeh_onload_callbacks.forEach(function(callback) {\n",
       "        if (callback != null)\n",
       "          callback();\n",
       "      });\n",
       "    } finally {\n",
       "      delete root._bokeh_onload_callbacks\n",
       "    }\n",
       "    console.debug(\"Bokeh: all callbacks have finished\");\n",
       "  }\n",
       "\n",
       "  function load_libs(css_urls, js_urls, callback) {\n",
       "    if (css_urls == null) css_urls = [];\n",
       "    if (js_urls == null) js_urls = [];\n",
       "\n",
       "    root._bokeh_onload_callbacks.push(callback);\n",
       "    if (root._bokeh_is_loading > 0) {\n",
       "      console.debug(\"Bokeh: BokehJS is being loaded, scheduling callback at\", now());\n",
       "      return null;\n",
       "    }\n",
       "    if (js_urls == null || js_urls.length === 0) {\n",
       "      run_callbacks();\n",
       "      return null;\n",
       "    }\n",
       "    console.debug(\"Bokeh: BokehJS not loaded, scheduling load and callback at\", now());\n",
       "    root._bokeh_is_loading = css_urls.length + js_urls.length;\n",
       "\n",
       "    function on_load() {\n",
       "      root._bokeh_is_loading--;\n",
       "      if (root._bokeh_is_loading === 0) {\n",
       "        console.debug(\"Bokeh: all BokehJS libraries/stylesheets loaded\");\n",
       "        run_callbacks()\n",
       "      }\n",
       "    }\n",
       "\n",
       "    function on_error(url) {\n",
       "      console.error(\"failed to load \" + url);\n",
       "    }\n",
       "\n",
       "    for (let i = 0; i < css_urls.length; i++) {\n",
       "      const url = css_urls[i];\n",
       "      const element = document.createElement(\"link\");\n",
       "      element.onload = on_load;\n",
       "      element.onerror = on_error.bind(null, url);\n",
       "      element.rel = \"stylesheet\";\n",
       "      element.type = \"text/css\";\n",
       "      element.href = url;\n",
       "      console.debug(\"Bokeh: injecting link tag for BokehJS stylesheet: \", url);\n",
       "      document.body.appendChild(element);\n",
       "    }\n",
       "\n",
       "    const hashes = {\"https://cdn.bokeh.org/bokeh/release/bokeh-2.3.0.min.js\": \"HjagQp6T0/7bxYTAXbLotF1MLAGWmhkY5siA1Gc/pcEgvgRPtMsRn0gQtMwGKiw1\", \"https://cdn.bokeh.org/bokeh/release/bokeh-widgets-2.3.0.min.js\": \"ZEPPTjL+mdyqgIq+/pl9KTwzji8Kow2NnI3zWY8+sFinWP/SYJ80BnfeJsa45iYj\", \"https://cdn.bokeh.org/bokeh/release/bokeh-tables-2.3.0.min.js\": \"exLqv2ACDRIaV7ZK1iL8aGzGYQvKVuT3U2CT7FsQREBxRah6JrkVCoFy0koY1YqV\"};\n",
       "\n",
       "    for (let i = 0; i < js_urls.length; i++) {\n",
       "      const url = js_urls[i];\n",
       "      const element = document.createElement('script');\n",
       "      element.onload = on_load;\n",
       "      element.onerror = on_error.bind(null, url);\n",
       "      element.async = false;\n",
       "      element.src = url;\n",
       "      if (url in hashes) {\n",
       "        element.crossOrigin = \"anonymous\";\n",
       "        element.integrity = \"sha384-\" + hashes[url];\n",
       "      }\n",
       "      console.debug(\"Bokeh: injecting script tag for BokehJS library: \", url);\n",
       "      document.head.appendChild(element);\n",
       "    }\n",
       "  };\n",
       "\n",
       "  function inject_raw_css(css) {\n",
       "    const element = document.createElement(\"style\");\n",
       "    element.appendChild(document.createTextNode(css));\n",
       "    document.body.appendChild(element);\n",
       "  }\n",
       "\n",
       "  \n",
       "  var js_urls = [\"https://cdn.bokeh.org/bokeh/release/bokeh-2.3.0.min.js\", \"https://cdn.bokeh.org/bokeh/release/bokeh-widgets-2.3.0.min.js\", \"https://cdn.bokeh.org/bokeh/release/bokeh-tables-2.3.0.min.js\"];\n",
       "  var css_urls = [];\n",
       "  \n",
       "\n",
       "  var inline_js = [\n",
       "    function(Bokeh) {\n",
       "      Bokeh.set_log_level(\"info\");\n",
       "    },\n",
       "    function(Bokeh) {\n",
       "    \n",
       "    \n",
       "    }\n",
       "  ];\n",
       "\n",
       "  function run_inline_js() {\n",
       "    \n",
       "    if (root.Bokeh !== undefined || force === true) {\n",
       "      \n",
       "    for (var i = 0; i < inline_js.length; i++) {\n",
       "      inline_js[i].call(root, root.Bokeh);\n",
       "    }\n",
       "    if (force === true) {\n",
       "        display_loaded();\n",
       "      }} else if (Date.now() < root._bokeh_timeout) {\n",
       "      setTimeout(run_inline_js, 100);\n",
       "    } else if (!root._bokeh_failed_load) {\n",
       "      console.log(\"Bokeh: BokehJS failed to load within specified timeout.\");\n",
       "      root._bokeh_failed_load = true;\n",
       "    } else if (force !== true) {\n",
       "      var cell = $(document.getElementById(\"1002\")).parents('.cell').data().cell;\n",
       "      cell.output_area.append_execute_result(NB_LOAD_WARNING)\n",
       "    }\n",
       "\n",
       "  }\n",
       "\n",
       "  if (root._bokeh_is_loading === 0) {\n",
       "    console.debug(\"Bokeh: BokehJS loaded, going straight to plotting\");\n",
       "    run_inline_js();\n",
       "  } else {\n",
       "    load_libs(css_urls, js_urls, function() {\n",
       "      console.debug(\"Bokeh: BokehJS plotting callback run at\", now());\n",
       "      run_inline_js();\n",
       "    });\n",
       "  }\n",
       "}(window));"
      ],
      "application/vnd.bokehjs_load.v0+json": "\n(function(root) {\n  function now() {\n    return new Date();\n  }\n\n  var force = true;\n\n  if (typeof root._bokeh_onload_callbacks === \"undefined\" || force === true) {\n    root._bokeh_onload_callbacks = [];\n    root._bokeh_is_loading = undefined;\n  }\n\n  \n\n  \n  if (typeof (root._bokeh_timeout) === \"undefined\" || force === true) {\n    root._bokeh_timeout = Date.now() + 5000;\n    root._bokeh_failed_load = false;\n  }\n\n  var NB_LOAD_WARNING = {'data': {'text/html':\n     \"<div style='background-color: #fdd'>\\n\"+\n     \"<p>\\n\"+\n     \"BokehJS does not appear to have successfully loaded. If loading BokehJS from CDN, this \\n\"+\n     \"may be due to a slow or bad network connection. Possible fixes:\\n\"+\n     \"</p>\\n\"+\n     \"<ul>\\n\"+\n     \"<li>re-rerun `output_notebook()` to attempt to load from CDN again, or</li>\\n\"+\n     \"<li>use INLINE resources instead, as so:</li>\\n\"+\n     \"</ul>\\n\"+\n     \"<code>\\n\"+\n     \"from bokeh.resources import INLINE\\n\"+\n     \"output_notebook(resources=INLINE)\\n\"+\n     \"</code>\\n\"+\n     \"</div>\"}};\n\n  function display_loaded() {\n    var el = document.getElementById(\"1002\");\n    if (el != null) {\n      el.textContent = \"BokehJS is loading...\";\n    }\n    if (root.Bokeh !== undefined) {\n      if (el != null) {\n        el.textContent = \"BokehJS \" + root.Bokeh.version + \" successfully loaded.\";\n      }\n    } else if (Date.now() < root._bokeh_timeout) {\n      setTimeout(display_loaded, 100)\n    }\n  }\n\n\n  function run_callbacks() {\n    try {\n      root._bokeh_onload_callbacks.forEach(function(callback) {\n        if (callback != null)\n          callback();\n      });\n    } finally {\n      delete root._bokeh_onload_callbacks\n    }\n    console.debug(\"Bokeh: all callbacks have finished\");\n  }\n\n  function load_libs(css_urls, js_urls, callback) {\n    if (css_urls == null) css_urls = [];\n    if (js_urls == null) js_urls = [];\n\n    root._bokeh_onload_callbacks.push(callback);\n    if (root._bokeh_is_loading > 0) {\n      console.debug(\"Bokeh: BokehJS is being loaded, scheduling callback at\", now());\n      return null;\n    }\n    if (js_urls == null || js_urls.length === 0) {\n      run_callbacks();\n      return null;\n    }\n    console.debug(\"Bokeh: BokehJS not loaded, scheduling load and callback at\", now());\n    root._bokeh_is_loading = css_urls.length + js_urls.length;\n\n    function on_load() {\n      root._bokeh_is_loading--;\n      if (root._bokeh_is_loading === 0) {\n        console.debug(\"Bokeh: all BokehJS libraries/stylesheets loaded\");\n        run_callbacks()\n      }\n    }\n\n    function on_error(url) {\n      console.error(\"failed to load \" + url);\n    }\n\n    for (let i = 0; i < css_urls.length; i++) {\n      const url = css_urls[i];\n      const element = document.createElement(\"link\");\n      element.onload = on_load;\n      element.onerror = on_error.bind(null, url);\n      element.rel = \"stylesheet\";\n      element.type = \"text/css\";\n      element.href = url;\n      console.debug(\"Bokeh: injecting link tag for BokehJS stylesheet: \", url);\n      document.body.appendChild(element);\n    }\n\n    const hashes = {\"https://cdn.bokeh.org/bokeh/release/bokeh-2.3.0.min.js\": \"HjagQp6T0/7bxYTAXbLotF1MLAGWmhkY5siA1Gc/pcEgvgRPtMsRn0gQtMwGKiw1\", \"https://cdn.bokeh.org/bokeh/release/bokeh-widgets-2.3.0.min.js\": \"ZEPPTjL+mdyqgIq+/pl9KTwzji8Kow2NnI3zWY8+sFinWP/SYJ80BnfeJsa45iYj\", \"https://cdn.bokeh.org/bokeh/release/bokeh-tables-2.3.0.min.js\": \"exLqv2ACDRIaV7ZK1iL8aGzGYQvKVuT3U2CT7FsQREBxRah6JrkVCoFy0koY1YqV\"};\n\n    for (let i = 0; i < js_urls.length; i++) {\n      const url = js_urls[i];\n      const element = document.createElement('script');\n      element.onload = on_load;\n      element.onerror = on_error.bind(null, url);\n      element.async = false;\n      element.src = url;\n      if (url in hashes) {\n        element.crossOrigin = \"anonymous\";\n        element.integrity = \"sha384-\" + hashes[url];\n      }\n      console.debug(\"Bokeh: injecting script tag for BokehJS library: \", url);\n      document.head.appendChild(element);\n    }\n  };\n\n  function inject_raw_css(css) {\n    const element = document.createElement(\"style\");\n    element.appendChild(document.createTextNode(css));\n    document.body.appendChild(element);\n  }\n\n  \n  var js_urls = [\"https://cdn.bokeh.org/bokeh/release/bokeh-2.3.0.min.js\", \"https://cdn.bokeh.org/bokeh/release/bokeh-widgets-2.3.0.min.js\", \"https://cdn.bokeh.org/bokeh/release/bokeh-tables-2.3.0.min.js\"];\n  var css_urls = [];\n  \n\n  var inline_js = [\n    function(Bokeh) {\n      Bokeh.set_log_level(\"info\");\n    },\n    function(Bokeh) {\n    \n    \n    }\n  ];\n\n  function run_inline_js() {\n    \n    if (root.Bokeh !== undefined || force === true) {\n      \n    for (var i = 0; i < inline_js.length; i++) {\n      inline_js[i].call(root, root.Bokeh);\n    }\n    if (force === true) {\n        display_loaded();\n      }} else if (Date.now() < root._bokeh_timeout) {\n      setTimeout(run_inline_js, 100);\n    } else if (!root._bokeh_failed_load) {\n      console.log(\"Bokeh: BokehJS failed to load within specified timeout.\");\n      root._bokeh_failed_load = true;\n    } else if (force !== true) {\n      var cell = $(document.getElementById(\"1002\")).parents('.cell').data().cell;\n      cell.output_area.append_execute_result(NB_LOAD_WARNING)\n    }\n\n  }\n\n  if (root._bokeh_is_loading === 0) {\n    console.debug(\"Bokeh: BokehJS loaded, going straight to plotting\");\n    run_inline_js();\n  } else {\n    load_libs(css_urls, js_urls, function() {\n      console.debug(\"Bokeh: BokehJS plotting callback run at\", now());\n      run_inline_js();\n    });\n  }\n}(window));"
     },
     "metadata": {},
     "output_type": "display_data"
    },
    {
     "data": {
      "text/html": [
       "\n",
       "\n",
       "\n",
       "\n",
       "\n",
       "\n",
       "  <div class=\"bk-root\" id=\"2b8adc4c-d6f1-4db0-89be-5d54fff5a69a\" data-root-id=\"1005\"></div>\n"
      ]
     },
     "metadata": {},
     "output_type": "display_data"
    },
    {
     "data": {
      "application/javascript": [
       "(function(root) {\n",
       "  function embed_document(root) {\n",
       "    \n",
       "  var docs_json = {\"dd9e15d4-3c2a-40e4-b7df-fdac3fb00f51\":{\"defs\":[{\"extends\":null,\"module\":null,\"name\":\"DataModel\",\"overrides\":[],\"properties\":[]}],\"roots\":{\"references\":[{\"attributes\":{\"below\":[{\"id\":\"1016\"}],\"center\":[{\"id\":\"1019\"},{\"id\":\"1023\"}],\"left\":[{\"id\":\"1020\"}],\"renderers\":[{\"id\":\"1044\"},{\"id\":\"1049\"}],\"title\":{\"id\":\"1006\"},\"toolbar\":{\"id\":\"1032\"},\"width\":900,\"x_range\":{\"id\":\"1008\"},\"x_scale\":{\"id\":\"1012\"},\"y_range\":{\"id\":\"1010\"},\"y_scale\":{\"id\":\"1014\"}},\"id\":\"1005\",\"subtype\":\"Figure\",\"type\":\"Plot\"},{\"attributes\":{},\"id\":\"1006\",\"type\":\"Title\"},{\"attributes\":{\"line_alpha\":0.1,\"line_color\":\"#1f77b4\",\"line_width\":2,\"x\":{\"field\":\"x\"},\"y\":{\"field\":\"y\"}},\"id\":\"1043\",\"type\":\"Line\"},{\"attributes\":{\"base\":60,\"mantissas\":[1,2,5,10,15,20,30],\"max_interval\":1800000.0,\"min_interval\":1000.0,\"num_minor_ticks\":0},\"id\":\"1060\",\"type\":\"AdaptiveTicker\"},{\"attributes\":{\"axis_label\":\"time\",\"formatter\":{\"id\":\"1003\"},\"major_label_policy\":{\"id\":\"1055\"},\"ticker\":{\"id\":\"1017\"}},\"id\":\"1016\",\"type\":\"DatetimeAxis\"},{\"attributes\":{\"days\":[1,4,7,10,13,16,19,22,25,28]},\"id\":\"1063\",\"type\":\"DaysTicker\"},{\"attributes\":{},\"id\":\"1073\",\"type\":\"UnionRenderers\"},{\"attributes\":{},\"id\":\"1012\",\"type\":\"LinearScale\"},{\"attributes\":{\"days\":[\"%d %B %Y\"],\"hours\":[\"%d %B %Y\"],\"months\":[\"%d %B %Y\"],\"years\":[\"%d %B %Y\"]},\"id\":\"1003\",\"type\":\"DatetimeTickFormatter\"},{\"attributes\":{\"mantissas\":[1,2,5],\"max_interval\":500.0,\"num_minor_ticks\":0},\"id\":\"1059\",\"type\":\"AdaptiveTicker\"},{\"attributes\":{\"callback\":null,\"formatters\":{\"@x\":\"datetime\"},\"mode\":\"vline\",\"tooltips\":[[\"date\",\"@x{%d-%m-%YT%H:%M:%S}\"],[\"value\",\"@y\"]]},\"id\":\"1004\",\"type\":\"HoverTool\"},{\"attributes\":{\"source\":{\"id\":\"1046\"}},\"id\":\"1050\",\"type\":\"CDSView\"},{\"attributes\":{},\"id\":\"1054\",\"type\":\"BasicTickFormatter\"},{\"attributes\":{\"data_source\":{\"id\":\"1046\"},\"glyph\":{\"id\":\"1047\"},\"hover_glyph\":null,\"muted_glyph\":null,\"nonselection_glyph\":{\"id\":\"1048\"},\"view\":{\"id\":\"1050\"}},\"id\":\"1049\",\"type\":\"GlyphRenderer\"},{\"attributes\":{\"data\":{\"x\":{\"__ndarray__\":\"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\",\"dtype\":\"float64\",\"order\":\"little\",\"shape\":[1095]},\"y\":{\"__ndarray__\":\"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\",\"dtype\":\"float64\",\"order\":\"little\",\"shape\":[1095]}},\"selected\":{\"id\":\"1072\"},\"selection_policy\":{\"id\":\"1071\"}},\"id\":\"1041\",\"type\":\"ColumnDataSource\"},{\"attributes\":{},\"id\":\"1008\",\"type\":\"DataRange1d\"},{\"attributes\":{\"days\":[1,2,3,4,5,6,7,8,9,10,11,12,13,14,15,16,17,18,19,20,21,22,23,24,25,26,27,28,29,30,31]},\"id\":\"1062\",\"type\":\"DaysTicker\"},{\"attributes\":{\"months\":[0,1,2,3,4,5,6,7,8,9,10,11]},\"id\":\"1066\",\"type\":\"MonthsTicker\"},{\"attributes\":{},\"id\":\"1010\",\"type\":\"DataRange1d\"},{\"attributes\":{\"base\":24,\"mantissas\":[1,2,4,6,8,12],\"max_interval\":43200000.0,\"min_interval\":3600000.0,\"num_minor_ticks\":0},\"id\":\"1061\",\"type\":\"AdaptiveTicker\"},{\"attributes\":{\"months\":[0,2,4,6,8,10]},\"id\":\"1067\",\"type\":\"MonthsTicker\"},{\"attributes\":{},\"id\":\"1014\",\"type\":\"LinearScale\"},{\"attributes\":{\"data\":{\"x\":{\"__ndarray__\":\"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\",\"dtype\":\"float64\",\"order\":\"little\",\"shape\":[1095]},\"y\":{\"__ndarray__\":\"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\",\"dtype\":\"float64\",\"order\":\"little\",\"shape\":[1095]}},\"selected\":{\"id\":\"1074\"},\"selection_policy\":{\"id\":\"1073\"}},\"id\":\"1046\",\"type\":\"ColumnDataSource\"},{\"attributes\":{\"line_color\":\"#1f77b4\",\"line_width\":2,\"x\":{\"field\":\"x\"},\"y\":{\"field\":\"y\"}},\"id\":\"1042\",\"type\":\"Line\"},{\"attributes\":{\"source\":{\"id\":\"1041\"}},\"id\":\"1045\",\"type\":\"CDSView\"},{\"attributes\":{\"days\":[1,8,15,22]},\"id\":\"1064\",\"type\":\"DaysTicker\"},{\"attributes\":{},\"id\":\"1052\",\"type\":\"AllLabels\"},{\"attributes\":{},\"id\":\"1070\",\"type\":\"YearsTicker\"},{\"attributes\":{\"days\":[1,15]},\"id\":\"1065\",\"type\":\"DaysTicker\"},{\"attributes\":{\"num_minor_ticks\":5,\"tickers\":[{\"id\":\"1059\"},{\"id\":\"1060\"},{\"id\":\"1061\"},{\"id\":\"1062\"},{\"id\":\"1063\"},{\"id\":\"1064\"},{\"id\":\"1065\"},{\"id\":\"1066\"},{\"id\":\"1067\"},{\"id\":\"1068\"},{\"id\":\"1069\"},{\"id\":\"1070\"}]},\"id\":\"1017\",\"type\":\"DatetimeTicker\"},{\"attributes\":{\"months\":[0,6]},\"id\":\"1069\",\"type\":\"MonthsTicker\"},{\"attributes\":{\"axis_label\":\"value\",\"formatter\":{\"id\":\"1054\"},\"major_label_policy\":{\"id\":\"1052\"},\"ticker\":{\"id\":\"1021\"}},\"id\":\"1020\",\"type\":\"LinearAxis\"},{\"attributes\":{\"data_source\":{\"id\":\"1041\"},\"glyph\":{\"id\":\"1042\"},\"hover_glyph\":null,\"muted_glyph\":null,\"nonselection_glyph\":{\"id\":\"1043\"},\"view\":{\"id\":\"1045\"}},\"id\":\"1044\",\"type\":\"GlyphRenderer\"},{\"attributes\":{\"bottom_units\":\"screen\",\"fill_alpha\":0.5,\"fill_color\":\"lightgrey\",\"left_units\":\"screen\",\"level\":\"overlay\",\"line_alpha\":1.0,\"line_color\":\"black\",\"line_dash\":[4,4],\"line_width\":2,\"right_units\":\"screen\",\"syncable\":false,\"top_units\":\"screen\"},\"id\":\"1030\",\"type\":\"BoxAnnotation\"},{\"attributes\":{},\"id\":\"1071\",\"type\":\"UnionRenderers\"},{\"attributes\":{\"axis\":{\"id\":\"1020\"},\"dimension\":1,\"ticker\":null},\"id\":\"1023\",\"type\":\"Grid\"},{\"attributes\":{\"months\":[0,4,8]},\"id\":\"1068\",\"type\":\"MonthsTicker\"},{\"attributes\":{},\"id\":\"1074\",\"type\":\"Selection\"},{\"attributes\":{\"axis\":{\"id\":\"1016\"},\"ticker\":null},\"id\":\"1019\",\"type\":\"Grid\"},{\"attributes\":{\"bottom_units\":\"screen\",\"fill_alpha\":0.5,\"fill_color\":\"lightgrey\",\"left_units\":\"screen\",\"level\":\"overlay\",\"line_alpha\":1.0,\"line_color\":\"black\",\"line_dash\":[4,4],\"line_width\":2,\"right_units\":\"screen\",\"syncable\":false,\"top_units\":\"screen\"},\"id\":\"1031\",\"type\":\"BoxAnnotation\"},{\"attributes\":{},\"id\":\"1025\",\"type\":\"WheelZoomTool\"},{\"attributes\":{\"overlay\":{\"id\":\"1030\"}},\"id\":\"1029\",\"type\":\"BoxSelectTool\"},{\"attributes\":{},\"id\":\"1021\",\"type\":\"BasicTicker\"},{\"attributes\":{},\"id\":\"1027\",\"type\":\"ResetTool\"},{\"attributes\":{},\"id\":\"1028\",\"type\":\"SaveTool\"},{\"attributes\":{},\"id\":\"1072\",\"type\":\"Selection\"},{\"attributes\":{},\"id\":\"1024\",\"type\":\"PanTool\"},{\"attributes\":{\"overlay\":{\"id\":\"1031\"}},\"id\":\"1026\",\"type\":\"BoxZoomTool\"},{\"attributes\":{\"active_multi\":null,\"active_scroll\":{\"id\":\"1025\"},\"tools\":[{\"id\":\"1024\"},{\"id\":\"1025\"},{\"id\":\"1026\"},{\"id\":\"1027\"},{\"id\":\"1028\"},{\"id\":\"1029\"},{\"id\":\"1004\"}]},\"id\":\"1032\",\"type\":\"Toolbar\"},{\"attributes\":{\"line_color\":\"orange\",\"line_width\":2,\"x\":{\"field\":\"x\"},\"y\":{\"field\":\"y\"}},\"id\":\"1047\",\"type\":\"Line\"},{\"attributes\":{},\"id\":\"1055\",\"type\":\"AllLabels\"},{\"attributes\":{\"line_alpha\":0.1,\"line_color\":\"orange\",\"line_width\":2,\"x\":{\"field\":\"x\"},\"y\":{\"field\":\"y\"}},\"id\":\"1048\",\"type\":\"Line\"}],\"root_ids\":[\"1005\"]},\"title\":\"Bokeh Application\",\"version\":\"2.3.0\"}};\n",
       "  var render_items = [{\"docid\":\"dd9e15d4-3c2a-40e4-b7df-fdac3fb00f51\",\"root_ids\":[\"1005\"],\"roots\":{\"1005\":\"2b8adc4c-d6f1-4db0-89be-5d54fff5a69a\"}}];\n",
       "  root.Bokeh.embed.embed_items_notebook(docs_json, render_items);\n",
       "\n",
       "  }\n",
       "  if (root.Bokeh !== undefined) {\n",
       "    embed_document(root);\n",
       "  } else {\n",
       "    var attempts = 0;\n",
       "    var timer = setInterval(function(root) {\n",
       "      if (root.Bokeh !== undefined) {\n",
       "        clearInterval(timer);\n",
       "        embed_document(root);\n",
       "      } else {\n",
       "        attempts++;\n",
       "        if (attempts > 100) {\n",
       "          clearInterval(timer);\n",
       "          console.log(\"Bokeh: ERROR: Unable to run BokehJS code because BokehJS library is missing\");\n",
       "        }\n",
       "      }\n",
       "    }, 10, root)\n",
       "  }\n",
       "})(window);"
      ],
      "application/vnd.bokehjs_exec.v0+json": ""
     },
     "metadata": {
      "application/vnd.bokehjs_exec.v0+json": {
       "id": "1005"
      }
     },
     "output_type": "display_data"
    }
   ],
   "source": [
    "plot_ts(ts_test, preds)"
   ]
  },
  {
   "cell_type": "code",
   "execution_count": 74,
   "id": "precious-hybrid",
   "metadata": {},
   "outputs": [
    {
     "data": {
      "text/plain": [
       "10.264218333900569"
      ]
     },
     "execution_count": 74,
     "metadata": {},
     "output_type": "execute_result"
    }
   ],
   "source": [
    "mse(ts_test, preds)"
   ]
  },
  {
   "cell_type": "markdown",
   "id": "mounted-painting",
   "metadata": {},
   "source": [
    "### Получение in-sample (когда каждая точка нам известна) прогноза"
   ]
  },
  {
   "cell_type": "markdown",
   "id": "alert-census",
   "metadata": {},
   "source": [
    "в таком случае мы должны вторым аргументов передать реальный тест, такм образом этим методом мы смотрим как бы мы предсказали ts_test если бы мы предсказывали на одну точку вперед, т.е. нам всегда известна реальная предыдущая точка"
   ]
  },
  {
   "cell_type": "code",
   "execution_count": 75,
   "id": "centered-chamber",
   "metadata": {},
   "outputs": [],
   "source": [
    "preds = predictor.predict_batch(ts_train, ts_test)"
   ]
  },
  {
   "cell_type": "code",
   "execution_count": 76,
   "id": "criminal-concord",
   "metadata": {},
   "outputs": [
    {
     "data": {
      "text/html": [
       "\n",
       "    <div class=\"bk-root\">\n",
       "        <a href=\"https://bokeh.org\" target=\"_blank\" class=\"bk-logo bk-logo-small bk-logo-notebook\"></a>\n",
       "        <span id=\"1412\">Loading BokehJS ...</span>\n",
       "    </div>"
      ]
     },
     "metadata": {},
     "output_type": "display_data"
    },
    {
     "data": {
      "application/javascript": [
       "\n",
       "(function(root) {\n",
       "  function now() {\n",
       "    return new Date();\n",
       "  }\n",
       "\n",
       "  var force = true;\n",
       "\n",
       "  if (typeof root._bokeh_onload_callbacks === \"undefined\" || force === true) {\n",
       "    root._bokeh_onload_callbacks = [];\n",
       "    root._bokeh_is_loading = undefined;\n",
       "  }\n",
       "\n",
       "  var JS_MIME_TYPE = 'application/javascript';\n",
       "  var HTML_MIME_TYPE = 'text/html';\n",
       "  var EXEC_MIME_TYPE = 'application/vnd.bokehjs_exec.v0+json';\n",
       "  var CLASS_NAME = 'output_bokeh rendered_html';\n",
       "\n",
       "  /**\n",
       "   * Render data to the DOM node\n",
       "   */\n",
       "  function render(props, node) {\n",
       "    var script = document.createElement(\"script\");\n",
       "    node.appendChild(script);\n",
       "  }\n",
       "\n",
       "  /**\n",
       "   * Handle when an output is cleared or removed\n",
       "   */\n",
       "  function handleClearOutput(event, handle) {\n",
       "    var cell = handle.cell;\n",
       "\n",
       "    var id = cell.output_area._bokeh_element_id;\n",
       "    var server_id = cell.output_area._bokeh_server_id;\n",
       "    // Clean up Bokeh references\n",
       "    if (id != null && id in Bokeh.index) {\n",
       "      Bokeh.index[id].model.document.clear();\n",
       "      delete Bokeh.index[id];\n",
       "    }\n",
       "\n",
       "    if (server_id !== undefined) {\n",
       "      // Clean up Bokeh references\n",
       "      var cmd = \"from bokeh.io.state import curstate; print(curstate().uuid_to_server['\" + server_id + \"'].get_sessions()[0].document.roots[0]._id)\";\n",
       "      cell.notebook.kernel.execute(cmd, {\n",
       "        iopub: {\n",
       "          output: function(msg) {\n",
       "            var id = msg.content.text.trim();\n",
       "            if (id in Bokeh.index) {\n",
       "              Bokeh.index[id].model.document.clear();\n",
       "              delete Bokeh.index[id];\n",
       "            }\n",
       "          }\n",
       "        }\n",
       "      });\n",
       "      // Destroy server and session\n",
       "      var cmd = \"import bokeh.io.notebook as ion; ion.destroy_server('\" + server_id + \"')\";\n",
       "      cell.notebook.kernel.execute(cmd);\n",
       "    }\n",
       "  }\n",
       "\n",
       "  /**\n",
       "   * Handle when a new output is added\n",
       "   */\n",
       "  function handleAddOutput(event, handle) {\n",
       "    var output_area = handle.output_area;\n",
       "    var output = handle.output;\n",
       "\n",
       "    // limit handleAddOutput to display_data with EXEC_MIME_TYPE content only\n",
       "    if ((output.output_type != \"display_data\") || (!Object.prototype.hasOwnProperty.call(output.data, EXEC_MIME_TYPE))) {\n",
       "      return\n",
       "    }\n",
       "\n",
       "    var toinsert = output_area.element.find(\".\" + CLASS_NAME.split(' ')[0]);\n",
       "\n",
       "    if (output.metadata[EXEC_MIME_TYPE][\"id\"] !== undefined) {\n",
       "      toinsert[toinsert.length - 1].firstChild.textContent = output.data[JS_MIME_TYPE];\n",
       "      // store reference to embed id on output_area\n",
       "      output_area._bokeh_element_id = output.metadata[EXEC_MIME_TYPE][\"id\"];\n",
       "    }\n",
       "    if (output.metadata[EXEC_MIME_TYPE][\"server_id\"] !== undefined) {\n",
       "      var bk_div = document.createElement(\"div\");\n",
       "      bk_div.innerHTML = output.data[HTML_MIME_TYPE];\n",
       "      var script_attrs = bk_div.children[0].attributes;\n",
       "      for (var i = 0; i < script_attrs.length; i++) {\n",
       "        toinsert[toinsert.length - 1].firstChild.setAttribute(script_attrs[i].name, script_attrs[i].value);\n",
       "        toinsert[toinsert.length - 1].firstChild.textContent = bk_div.children[0].textContent\n",
       "      }\n",
       "      // store reference to server id on output_area\n",
       "      output_area._bokeh_server_id = output.metadata[EXEC_MIME_TYPE][\"server_id\"];\n",
       "    }\n",
       "  }\n",
       "\n",
       "  function register_renderer(events, OutputArea) {\n",
       "\n",
       "    function append_mime(data, metadata, element) {\n",
       "      // create a DOM node to render to\n",
       "      var toinsert = this.create_output_subarea(\n",
       "        metadata,\n",
       "        CLASS_NAME,\n",
       "        EXEC_MIME_TYPE\n",
       "      );\n",
       "      this.keyboard_manager.register_events(toinsert);\n",
       "      // Render to node\n",
       "      var props = {data: data, metadata: metadata[EXEC_MIME_TYPE]};\n",
       "      render(props, toinsert[toinsert.length - 1]);\n",
       "      element.append(toinsert);\n",
       "      return toinsert\n",
       "    }\n",
       "\n",
       "    /* Handle when an output is cleared or removed */\n",
       "    events.on('clear_output.CodeCell', handleClearOutput);\n",
       "    events.on('delete.Cell', handleClearOutput);\n",
       "\n",
       "    /* Handle when a new output is added */\n",
       "    events.on('output_added.OutputArea', handleAddOutput);\n",
       "\n",
       "    /**\n",
       "     * Register the mime type and append_mime function with output_area\n",
       "     */\n",
       "    OutputArea.prototype.register_mime_type(EXEC_MIME_TYPE, append_mime, {\n",
       "      /* Is output safe? */\n",
       "      safe: true,\n",
       "      /* Index of renderer in `output_area.display_order` */\n",
       "      index: 0\n",
       "    });\n",
       "  }\n",
       "\n",
       "  // register the mime type if in Jupyter Notebook environment and previously unregistered\n",
       "  if (root.Jupyter !== undefined) {\n",
       "    var events = require('base/js/events');\n",
       "    var OutputArea = require('notebook/js/outputarea').OutputArea;\n",
       "\n",
       "    if (OutputArea.prototype.mime_types().indexOf(EXEC_MIME_TYPE) == -1) {\n",
       "      register_renderer(events, OutputArea);\n",
       "    }\n",
       "  }\n",
       "\n",
       "  \n",
       "  if (typeof (root._bokeh_timeout) === \"undefined\" || force === true) {\n",
       "    root._bokeh_timeout = Date.now() + 5000;\n",
       "    root._bokeh_failed_load = false;\n",
       "  }\n",
       "\n",
       "  var NB_LOAD_WARNING = {'data': {'text/html':\n",
       "     \"<div style='background-color: #fdd'>\\n\"+\n",
       "     \"<p>\\n\"+\n",
       "     \"BokehJS does not appear to have successfully loaded. If loading BokehJS from CDN, this \\n\"+\n",
       "     \"may be due to a slow or bad network connection. Possible fixes:\\n\"+\n",
       "     \"</p>\\n\"+\n",
       "     \"<ul>\\n\"+\n",
       "     \"<li>re-rerun `output_notebook()` to attempt to load from CDN again, or</li>\\n\"+\n",
       "     \"<li>use INLINE resources instead, as so:</li>\\n\"+\n",
       "     \"</ul>\\n\"+\n",
       "     \"<code>\\n\"+\n",
       "     \"from bokeh.resources import INLINE\\n\"+\n",
       "     \"output_notebook(resources=INLINE)\\n\"+\n",
       "     \"</code>\\n\"+\n",
       "     \"</div>\"}};\n",
       "\n",
       "  function display_loaded() {\n",
       "    var el = document.getElementById(\"1412\");\n",
       "    if (el != null) {\n",
       "      el.textContent = \"BokehJS is loading...\";\n",
       "    }\n",
       "    if (root.Bokeh !== undefined) {\n",
       "      if (el != null) {\n",
       "        el.textContent = \"BokehJS \" + root.Bokeh.version + \" successfully loaded.\";\n",
       "      }\n",
       "    } else if (Date.now() < root._bokeh_timeout) {\n",
       "      setTimeout(display_loaded, 100)\n",
       "    }\n",
       "  }\n",
       "\n",
       "\n",
       "  function run_callbacks() {\n",
       "    try {\n",
       "      root._bokeh_onload_callbacks.forEach(function(callback) {\n",
       "        if (callback != null)\n",
       "          callback();\n",
       "      });\n",
       "    } finally {\n",
       "      delete root._bokeh_onload_callbacks\n",
       "    }\n",
       "    console.debug(\"Bokeh: all callbacks have finished\");\n",
       "  }\n",
       "\n",
       "  function load_libs(css_urls, js_urls, callback) {\n",
       "    if (css_urls == null) css_urls = [];\n",
       "    if (js_urls == null) js_urls = [];\n",
       "\n",
       "    root._bokeh_onload_callbacks.push(callback);\n",
       "    if (root._bokeh_is_loading > 0) {\n",
       "      console.debug(\"Bokeh: BokehJS is being loaded, scheduling callback at\", now());\n",
       "      return null;\n",
       "    }\n",
       "    if (js_urls == null || js_urls.length === 0) {\n",
       "      run_callbacks();\n",
       "      return null;\n",
       "    }\n",
       "    console.debug(\"Bokeh: BokehJS not loaded, scheduling load and callback at\", now());\n",
       "    root._bokeh_is_loading = css_urls.length + js_urls.length;\n",
       "\n",
       "    function on_load() {\n",
       "      root._bokeh_is_loading--;\n",
       "      if (root._bokeh_is_loading === 0) {\n",
       "        console.debug(\"Bokeh: all BokehJS libraries/stylesheets loaded\");\n",
       "        run_callbacks()\n",
       "      }\n",
       "    }\n",
       "\n",
       "    function on_error(url) {\n",
       "      console.error(\"failed to load \" + url);\n",
       "    }\n",
       "\n",
       "    for (let i = 0; i < css_urls.length; i++) {\n",
       "      const url = css_urls[i];\n",
       "      const element = document.createElement(\"link\");\n",
       "      element.onload = on_load;\n",
       "      element.onerror = on_error.bind(null, url);\n",
       "      element.rel = \"stylesheet\";\n",
       "      element.type = \"text/css\";\n",
       "      element.href = url;\n",
       "      console.debug(\"Bokeh: injecting link tag for BokehJS stylesheet: \", url);\n",
       "      document.body.appendChild(element);\n",
       "    }\n",
       "\n",
       "    const hashes = {\"https://cdn.bokeh.org/bokeh/release/bokeh-2.3.0.min.js\": \"HjagQp6T0/7bxYTAXbLotF1MLAGWmhkY5siA1Gc/pcEgvgRPtMsRn0gQtMwGKiw1\", \"https://cdn.bokeh.org/bokeh/release/bokeh-widgets-2.3.0.min.js\": \"ZEPPTjL+mdyqgIq+/pl9KTwzji8Kow2NnI3zWY8+sFinWP/SYJ80BnfeJsa45iYj\", \"https://cdn.bokeh.org/bokeh/release/bokeh-tables-2.3.0.min.js\": \"exLqv2ACDRIaV7ZK1iL8aGzGYQvKVuT3U2CT7FsQREBxRah6JrkVCoFy0koY1YqV\"};\n",
       "\n",
       "    for (let i = 0; i < js_urls.length; i++) {\n",
       "      const url = js_urls[i];\n",
       "      const element = document.createElement('script');\n",
       "      element.onload = on_load;\n",
       "      element.onerror = on_error.bind(null, url);\n",
       "      element.async = false;\n",
       "      element.src = url;\n",
       "      if (url in hashes) {\n",
       "        element.crossOrigin = \"anonymous\";\n",
       "        element.integrity = \"sha384-\" + hashes[url];\n",
       "      }\n",
       "      console.debug(\"Bokeh: injecting script tag for BokehJS library: \", url);\n",
       "      document.head.appendChild(element);\n",
       "    }\n",
       "  };\n",
       "\n",
       "  function inject_raw_css(css) {\n",
       "    const element = document.createElement(\"style\");\n",
       "    element.appendChild(document.createTextNode(css));\n",
       "    document.body.appendChild(element);\n",
       "  }\n",
       "\n",
       "  \n",
       "  var js_urls = [\"https://cdn.bokeh.org/bokeh/release/bokeh-2.3.0.min.js\", \"https://cdn.bokeh.org/bokeh/release/bokeh-widgets-2.3.0.min.js\", \"https://cdn.bokeh.org/bokeh/release/bokeh-tables-2.3.0.min.js\"];\n",
       "  var css_urls = [];\n",
       "  \n",
       "\n",
       "  var inline_js = [\n",
       "    function(Bokeh) {\n",
       "      Bokeh.set_log_level(\"info\");\n",
       "    },\n",
       "    function(Bokeh) {\n",
       "    \n",
       "    \n",
       "    }\n",
       "  ];\n",
       "\n",
       "  function run_inline_js() {\n",
       "    \n",
       "    if (root.Bokeh !== undefined || force === true) {\n",
       "      \n",
       "    for (var i = 0; i < inline_js.length; i++) {\n",
       "      inline_js[i].call(root, root.Bokeh);\n",
       "    }\n",
       "    if (force === true) {\n",
       "        display_loaded();\n",
       "      }} else if (Date.now() < root._bokeh_timeout) {\n",
       "      setTimeout(run_inline_js, 100);\n",
       "    } else if (!root._bokeh_failed_load) {\n",
       "      console.log(\"Bokeh: BokehJS failed to load within specified timeout.\");\n",
       "      root._bokeh_failed_load = true;\n",
       "    } else if (force !== true) {\n",
       "      var cell = $(document.getElementById(\"1412\")).parents('.cell').data().cell;\n",
       "      cell.output_area.append_execute_result(NB_LOAD_WARNING)\n",
       "    }\n",
       "\n",
       "  }\n",
       "\n",
       "  if (root._bokeh_is_loading === 0) {\n",
       "    console.debug(\"Bokeh: BokehJS loaded, going straight to plotting\");\n",
       "    run_inline_js();\n",
       "  } else {\n",
       "    load_libs(css_urls, js_urls, function() {\n",
       "      console.debug(\"Bokeh: BokehJS plotting callback run at\", now());\n",
       "      run_inline_js();\n",
       "    });\n",
       "  }\n",
       "}(window));"
      ],
      "application/vnd.bokehjs_load.v0+json": "\n(function(root) {\n  function now() {\n    return new Date();\n  }\n\n  var force = true;\n\n  if (typeof root._bokeh_onload_callbacks === \"undefined\" || force === true) {\n    root._bokeh_onload_callbacks = [];\n    root._bokeh_is_loading = undefined;\n  }\n\n  \n\n  \n  if (typeof (root._bokeh_timeout) === \"undefined\" || force === true) {\n    root._bokeh_timeout = Date.now() + 5000;\n    root._bokeh_failed_load = false;\n  }\n\n  var NB_LOAD_WARNING = {'data': {'text/html':\n     \"<div style='background-color: #fdd'>\\n\"+\n     \"<p>\\n\"+\n     \"BokehJS does not appear to have successfully loaded. If loading BokehJS from CDN, this \\n\"+\n     \"may be due to a slow or bad network connection. Possible fixes:\\n\"+\n     \"</p>\\n\"+\n     \"<ul>\\n\"+\n     \"<li>re-rerun `output_notebook()` to attempt to load from CDN again, or</li>\\n\"+\n     \"<li>use INLINE resources instead, as so:</li>\\n\"+\n     \"</ul>\\n\"+\n     \"<code>\\n\"+\n     \"from bokeh.resources import INLINE\\n\"+\n     \"output_notebook(resources=INLINE)\\n\"+\n     \"</code>\\n\"+\n     \"</div>\"}};\n\n  function display_loaded() {\n    var el = document.getElementById(\"1412\");\n    if (el != null) {\n      el.textContent = \"BokehJS is loading...\";\n    }\n    if (root.Bokeh !== undefined) {\n      if (el != null) {\n        el.textContent = \"BokehJS \" + root.Bokeh.version + \" successfully loaded.\";\n      }\n    } else if (Date.now() < root._bokeh_timeout) {\n      setTimeout(display_loaded, 100)\n    }\n  }\n\n\n  function run_callbacks() {\n    try {\n      root._bokeh_onload_callbacks.forEach(function(callback) {\n        if (callback != null)\n          callback();\n      });\n    } finally {\n      delete root._bokeh_onload_callbacks\n    }\n    console.debug(\"Bokeh: all callbacks have finished\");\n  }\n\n  function load_libs(css_urls, js_urls, callback) {\n    if (css_urls == null) css_urls = [];\n    if (js_urls == null) js_urls = [];\n\n    root._bokeh_onload_callbacks.push(callback);\n    if (root._bokeh_is_loading > 0) {\n      console.debug(\"Bokeh: BokehJS is being loaded, scheduling callback at\", now());\n      return null;\n    }\n    if (js_urls == null || js_urls.length === 0) {\n      run_callbacks();\n      return null;\n    }\n    console.debug(\"Bokeh: BokehJS not loaded, scheduling load and callback at\", now());\n    root._bokeh_is_loading = css_urls.length + js_urls.length;\n\n    function on_load() {\n      root._bokeh_is_loading--;\n      if (root._bokeh_is_loading === 0) {\n        console.debug(\"Bokeh: all BokehJS libraries/stylesheets loaded\");\n        run_callbacks()\n      }\n    }\n\n    function on_error(url) {\n      console.error(\"failed to load \" + url);\n    }\n\n    for (let i = 0; i < css_urls.length; i++) {\n      const url = css_urls[i];\n      const element = document.createElement(\"link\");\n      element.onload = on_load;\n      element.onerror = on_error.bind(null, url);\n      element.rel = \"stylesheet\";\n      element.type = \"text/css\";\n      element.href = url;\n      console.debug(\"Bokeh: injecting link tag for BokehJS stylesheet: \", url);\n      document.body.appendChild(element);\n    }\n\n    const hashes = {\"https://cdn.bokeh.org/bokeh/release/bokeh-2.3.0.min.js\": \"HjagQp6T0/7bxYTAXbLotF1MLAGWmhkY5siA1Gc/pcEgvgRPtMsRn0gQtMwGKiw1\", \"https://cdn.bokeh.org/bokeh/release/bokeh-widgets-2.3.0.min.js\": \"ZEPPTjL+mdyqgIq+/pl9KTwzji8Kow2NnI3zWY8+sFinWP/SYJ80BnfeJsa45iYj\", \"https://cdn.bokeh.org/bokeh/release/bokeh-tables-2.3.0.min.js\": \"exLqv2ACDRIaV7ZK1iL8aGzGYQvKVuT3U2CT7FsQREBxRah6JrkVCoFy0koY1YqV\"};\n\n    for (let i = 0; i < js_urls.length; i++) {\n      const url = js_urls[i];\n      const element = document.createElement('script');\n      element.onload = on_load;\n      element.onerror = on_error.bind(null, url);\n      element.async = false;\n      element.src = url;\n      if (url in hashes) {\n        element.crossOrigin = \"anonymous\";\n        element.integrity = \"sha384-\" + hashes[url];\n      }\n      console.debug(\"Bokeh: injecting script tag for BokehJS library: \", url);\n      document.head.appendChild(element);\n    }\n  };\n\n  function inject_raw_css(css) {\n    const element = document.createElement(\"style\");\n    element.appendChild(document.createTextNode(css));\n    document.body.appendChild(element);\n  }\n\n  \n  var js_urls = [\"https://cdn.bokeh.org/bokeh/release/bokeh-2.3.0.min.js\", \"https://cdn.bokeh.org/bokeh/release/bokeh-widgets-2.3.0.min.js\", \"https://cdn.bokeh.org/bokeh/release/bokeh-tables-2.3.0.min.js\"];\n  var css_urls = [];\n  \n\n  var inline_js = [\n    function(Bokeh) {\n      Bokeh.set_log_level(\"info\");\n    },\n    function(Bokeh) {\n    \n    \n    }\n  ];\n\n  function run_inline_js() {\n    \n    if (root.Bokeh !== undefined || force === true) {\n      \n    for (var i = 0; i < inline_js.length; i++) {\n      inline_js[i].call(root, root.Bokeh);\n    }\n    if (force === true) {\n        display_loaded();\n      }} else if (Date.now() < root._bokeh_timeout) {\n      setTimeout(run_inline_js, 100);\n    } else if (!root._bokeh_failed_load) {\n      console.log(\"Bokeh: BokehJS failed to load within specified timeout.\");\n      root._bokeh_failed_load = true;\n    } else if (force !== true) {\n      var cell = $(document.getElementById(\"1412\")).parents('.cell').data().cell;\n      cell.output_area.append_execute_result(NB_LOAD_WARNING)\n    }\n\n  }\n\n  if (root._bokeh_is_loading === 0) {\n    console.debug(\"Bokeh: BokehJS loaded, going straight to plotting\");\n    run_inline_js();\n  } else {\n    load_libs(css_urls, js_urls, function() {\n      console.debug(\"Bokeh: BokehJS plotting callback run at\", now());\n      run_inline_js();\n    });\n  }\n}(window));"
     },
     "metadata": {},
     "output_type": "display_data"
    },
    {
     "data": {
      "text/html": [
       "\n",
       "\n",
       "\n",
       "\n",
       "\n",
       "\n",
       "  <div class=\"bk-root\" id=\"8e765006-98d0-4c00-bbad-be4aa9b0de6a\" data-root-id=\"1415\"></div>\n"
      ]
     },
     "metadata": {},
     "output_type": "display_data"
    },
    {
     "data": {
      "application/javascript": [
       "(function(root) {\n",
       "  function embed_document(root) {\n",
       "    \n",
       "  var docs_json = {\"a897d9d2-cb66-44d3-8529-63043b4f35be\":{\"defs\":[{\"extends\":null,\"module\":null,\"name\":\"DataModel\",\"overrides\":[],\"properties\":[]}],\"roots\":{\"references\":[{\"attributes\":{\"below\":[{\"id\":\"1426\"}],\"center\":[{\"id\":\"1429\"},{\"id\":\"1433\"}],\"left\":[{\"id\":\"1430\"}],\"renderers\":[{\"id\":\"1454\"},{\"id\":\"1459\"}],\"title\":{\"id\":\"1416\"},\"toolbar\":{\"id\":\"1442\"},\"width\":900,\"x_range\":{\"id\":\"1418\"},\"x_scale\":{\"id\":\"1422\"},\"y_range\":{\"id\":\"1420\"},\"y_scale\":{\"id\":\"1424\"}},\"id\":\"1415\",\"subtype\":\"Figure\",\"type\":\"Plot\"},{\"attributes\":{},\"id\":\"1437\",\"type\":\"ResetTool\"},{\"attributes\":{\"months\":[0,4,8]},\"id\":\"1526\",\"type\":\"MonthsTicker\"},{\"attributes\":{},\"id\":\"1422\",\"type\":\"LinearScale\"},{\"attributes\":{},\"id\":\"1416\",\"type\":\"Title\"},{\"attributes\":{\"bottom_units\":\"screen\",\"fill_alpha\":0.5,\"fill_color\":\"lightgrey\",\"left_units\":\"screen\",\"level\":\"overlay\",\"line_alpha\":1.0,\"line_color\":\"black\",\"line_dash\":[4,4],\"line_width\":2,\"right_units\":\"screen\",\"syncable\":false,\"top_units\":\"screen\"},\"id\":\"1441\",\"type\":\"BoxAnnotation\"},{\"attributes\":{\"line_alpha\":0.1,\"line_color\":\"orange\",\"line_width\":2,\"x\":{\"field\":\"x\"},\"y\":{\"field\":\"y\"}},\"id\":\"1458\",\"type\":\"Line\"},{\"attributes\":{\"days\":[1,8,15,22]},\"id\":\"1522\",\"type\":\"DaysTicker\"},{\"attributes\":{\"months\":[0,1,2,3,4,5,6,7,8,9,10,11]},\"id\":\"1524\",\"type\":\"MonthsTicker\"},{\"attributes\":{},\"id\":\"1529\",\"type\":\"UnionRenderers\"},{\"attributes\":{},\"id\":\"1530\",\"type\":\"Selection\"},{\"attributes\":{\"source\":{\"id\":\"1451\"}},\"id\":\"1455\",\"type\":\"CDSView\"},{\"attributes\":{},\"id\":\"1531\",\"type\":\"UnionRenderers\"},{\"attributes\":{},\"id\":\"1434\",\"type\":\"PanTool\"},{\"attributes\":{\"line_color\":\"#1f77b4\",\"line_width\":2,\"x\":{\"field\":\"x\"},\"y\":{\"field\":\"y\"}},\"id\":\"1452\",\"type\":\"Line\"},{\"attributes\":{},\"id\":\"1420\",\"type\":\"DataRange1d\"},{\"attributes\":{},\"id\":\"1512\",\"type\":\"BasicTickFormatter\"},{\"attributes\":{\"base\":60,\"mantissas\":[1,2,5,10,15,20,30],\"max_interval\":1800000.0,\"min_interval\":1000.0,\"num_minor_ticks\":0},\"id\":\"1518\",\"type\":\"AdaptiveTicker\"},{\"attributes\":{},\"id\":\"1418\",\"type\":\"DataRange1d\"},{\"attributes\":{\"data_source\":{\"id\":\"1451\"},\"glyph\":{\"id\":\"1452\"},\"hover_glyph\":null,\"muted_glyph\":null,\"nonselection_glyph\":{\"id\":\"1453\"},\"view\":{\"id\":\"1455\"}},\"id\":\"1454\",\"type\":\"GlyphRenderer\"},{\"attributes\":{},\"id\":\"1532\",\"type\":\"Selection\"},{\"attributes\":{\"bottom_units\":\"screen\",\"fill_alpha\":0.5,\"fill_color\":\"lightgrey\",\"left_units\":\"screen\",\"level\":\"overlay\",\"line_alpha\":1.0,\"line_color\":\"black\",\"line_dash\":[4,4],\"line_width\":2,\"right_units\":\"screen\",\"syncable\":false,\"top_units\":\"screen\"},\"id\":\"1440\",\"type\":\"BoxAnnotation\"},{\"attributes\":{\"days\":[1,15]},\"id\":\"1523\",\"type\":\"DaysTicker\"},{\"attributes\":{\"callback\":null,\"formatters\":{\"@x\":\"datetime\"},\"mode\":\"vline\",\"tooltips\":[[\"date\",\"@x{%d-%m-%YT%H:%M:%S}\"],[\"value\",\"@y\"]]},\"id\":\"1414\",\"type\":\"HoverTool\"},{\"attributes\":{\"line_alpha\":0.1,\"line_color\":\"#1f77b4\",\"line_width\":2,\"x\":{\"field\":\"x\"},\"y\":{\"field\":\"y\"}},\"id\":\"1453\",\"type\":\"Line\"},{\"attributes\":{\"axis\":{\"id\":\"1426\"},\"ticker\":null},\"id\":\"1429\",\"type\":\"Grid\"},{\"attributes\":{\"base\":24,\"mantissas\":[1,2,4,6,8,12],\"max_interval\":43200000.0,\"min_interval\":3600000.0,\"num_minor_ticks\":0},\"id\":\"1519\",\"type\":\"AdaptiveTicker\"},{\"attributes\":{\"line_color\":\"orange\",\"line_width\":2,\"x\":{\"field\":\"x\"},\"y\":{\"field\":\"y\"}},\"id\":\"1457\",\"type\":\"Line\"},{\"attributes\":{},\"id\":\"1435\",\"type\":\"WheelZoomTool\"},{\"attributes\":{},\"id\":\"1438\",\"type\":\"SaveTool\"},{\"attributes\":{\"axis\":{\"id\":\"1430\"},\"dimension\":1,\"ticker\":null},\"id\":\"1433\",\"type\":\"Grid\"},{\"attributes\":{\"days\":[1,2,3,4,5,6,7,8,9,10,11,12,13,14,15,16,17,18,19,20,21,22,23,24,25,26,27,28,29,30,31]},\"id\":\"1520\",\"type\":\"DaysTicker\"},{\"attributes\":{},\"id\":\"1510\",\"type\":\"AllLabels\"},{\"attributes\":{},\"id\":\"1424\",\"type\":\"LinearScale\"},{\"attributes\":{\"months\":[0,6]},\"id\":\"1527\",\"type\":\"MonthsTicker\"},{\"attributes\":{},\"id\":\"1528\",\"type\":\"YearsTicker\"},{\"attributes\":{\"overlay\":{\"id\":\"1441\"}},\"id\":\"1436\",\"type\":\"BoxZoomTool\"},{\"attributes\":{\"overlay\":{\"id\":\"1440\"}},\"id\":\"1439\",\"type\":\"BoxSelectTool\"},{\"attributes\":{\"data\":{\"x\":{\"__ndarray__\":\"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\",\"dtype\":\"float64\",\"order\":\"little\",\"shape\":[1095]},\"y\":{\"__ndarray__\":\"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\",\"dtype\":\"float64\",\"order\":\"little\",\"shape\":[1095]}},\"selected\":{\"id\":\"1530\"},\"selection_policy\":{\"id\":\"1529\"}},\"id\":\"1451\",\"type\":\"ColumnDataSource\"},{\"attributes\":{\"num_minor_ticks\":5,\"tickers\":[{\"id\":\"1517\"},{\"id\":\"1518\"},{\"id\":\"1519\"},{\"id\":\"1520\"},{\"id\":\"1521\"},{\"id\":\"1522\"},{\"id\":\"1523\"},{\"id\":\"1524\"},{\"id\":\"1525\"},{\"id\":\"1526\"},{\"id\":\"1527\"},{\"id\":\"1528\"}]},\"id\":\"1427\",\"type\":\"DatetimeTicker\"},{\"attributes\":{\"days\":[\"%d %B %Y\"],\"hours\":[\"%d %B %Y\"],\"months\":[\"%d %B %Y\"],\"years\":[\"%d %B %Y\"]},\"id\":\"1413\",\"type\":\"DatetimeTickFormatter\"},{\"attributes\":{},\"id\":\"1431\",\"type\":\"BasicTicker\"},{\"attributes\":{\"data\":{\"x\":{\"__ndarray__\":\"AAAA0eGHYEIAAICchohgQgAAAGgriWBCAACAM9CJYEIAAAD/dIpgQgAAgMoZi2BCAAAAlr6LYEIAAIBhY4xgQgAAAC0IjWBCAACA+KyNYEIAAADEUY5gQgAAgI/2jmBCAAAAW5uPYEIAAIAmQJBgQgAAAPLkkGBCAACAvYmRYEIAAACJLpJgQgAAgFTTkmBCAAAAIHiTYEIAAIDrHJRgQgAAALfBlGBCAACAgmaVYEIAAABOC5ZgQgAAgBmwlmBCAAAA5VSXYEIAAICw+ZdgQgAAAHyemGBCAACAR0OZYEIAAAAT6JlgQgAAgN6MmmBCAAAAqjGbYEIAAIB11ptgQgAAAEF7nGBCAACADCCdYEIAAADYxJ1gQgAAgKNpnmBCAAAAbw6fYEIAAIA6s59gQgAAAAZYoGBCAACA0fygYEIAAACdoaFgQgAAgGhGomBCAAAANOuiYEIAAID/j6NgQgAAAMs0pGBCAACAltmkYEIAAABifqVgQgAAgC0jpmBCAAAA+cemYEIAAIDEbKdgQgAAAJARqGBCAACAW7aoYEIAAAAnW6lgQgAAgPL/qWBCAAAAvqSqYEIAAICJSatgQgAAAFXuq2BCAACAIJOsYEIAAADsN61gQgAAgLfcrWBCAAAAg4GuYEIAAIBOJq9gQgAAABrLr2BCAACA5W+wYEIAAACxFLFgQgAAgHy5sWBCAAAASF6yYEIAAIATA7NgQgAAAN+ns2BCAACAqky0YEIAAAB28bRgQgAAgEGWtWBCAAAADTu2YEIAAIDY37ZgQgAAAKSEt2BCAACAbym4YEIAAAA7zrhgQgAAgAZzuWBCAAAA0he6YEIAAICdvLpgQgAAAGlhu2BCAACANAa8YEIAAAAAq7xgQgAAgMtPvWBCAAAAl/S9YEIAAIBimb5gQgAAAC4+v2BCAACA+eK/YEIAAADFh8BgQgAAgJAswWBCAAAAXNHBYEIAAIAndsJgQgAAAPMaw2BCAACAvr/DYEIAAACKZMRgQgAAgFUJxWBCAAAAIa7FYEIAAIDsUsZgQgAAALj3xmBCAACAg5zHYEIAAABPQchgQgAAgBrmyGBCAAAA5orJYEIAAICxL8pgQgAAAH3UymBCAACASHnLYEIAAAAUHsxgQgAAgN/CzGBCAAAAq2fNYEIAAIB2DM5gQgAAAEKxzmBCAACADVbPYEIAAADZ+s9gQgAAgKSf0GBCAAAAcETRYEIAAIA76dFgQgAAAAeO0mBCAACA0jLTYEIAAACe19NgQgAAgGl81GBCAAAANSHVYEIAAIAAxtVgQgAAAMxq1mBCAACAlw/XYEIAAABjtNdgQgAAgC5Z2GBCAAAA+v3YYEIAAIDFotlgQgAAAJFH2mBCAACAXOzaYEIAAAAokdtgQgAAgPM13GBCAAAAv9rcYEIAAICKf91gQgAAAFYk3mBCAACAIcneYEIAAADtbd9gQgAAgLgS4GBCAAAAhLfgYEIAAIBPXOFgQgAAABsB4mBCAACA5qXiYEIAAACySuNgQgAAgH3v42BCAAAASZTkYEIAAIAUOeVgQgAAAODd5WBCAACAq4LmYEIAAAB3J+dgQgAAgELM52BCAAAADnHoYEIAAIDZFelgQgAAAKW66WBCAACAcF/qYEIAAAA8BOtgQgAAgAep62BCAAAA003sYEIAAICe8uxgQgAAAGqX7WBCAACANTzuYEIAAAAB4e5gQgAAgMyF72BCAAAAmCrwYEIAAIBjz/BgQgAAAC908WBCAACA+hjyYEIAAADGvfJgQgAAgJFi82BCAAAAXQf0YEIAAIAorPRgQgAAAPRQ9WBCAACAv/X1YEIAAACLmvZgQgAAgFY/92BCAAAAIuT3YEIAAIDtiPhgQgAAALkt+WBCAACAhNL5YEIAAABQd/pgQgAAgBsc+2BCAAAA58D7YEIAAICyZfxgQgAAAH4K/WBCAACASa/9YEIAAAAVVP5gQgAAgOD4/mBCAAAArJ3/YEIAAIB3QgBhQgAAAEPnAGFCAACADowBYUIAAADaMAJhQgAAgKXVAmFCAAAAcXoDYUIAAIA8HwRhQgAAAAjEBGFCAACA02gFYUIAAACfDQZhQgAAgGqyBmFCAAAANlcHYUIAAIAB/AdhQgAAAM2gCGFCAACAmEUJYUIAAABk6glhQgAAgC+PCmFCAAAA+zMLYUIAAIDG2AthQgAAAJJ9DGFCAACAXSINYUIAAAApxw1hQgAAgPRrDmFCAAAAwBAPYUIAAICLtQ9hQgAAAFdaEGFCAACAIv8QYUIAAADuoxFhQgAAgLlIEmFCAAAAhe0SYUIAAIBQkhNhQgAAABw3FGFCAACA59sUYUIAAACzgBVhQgAAgH4lFmFCAAAASsoWYUIAAIAVbxdhQgAAAOETGGFCAACArLgYYUIAAAB4XRlhQgAAgEMCGmFCAAAAD6caYUIAAIDaSxthQgAAAKbwG2FCAACAcZUcYUIAAAA9Oh1hQgAAgAjfHWFCAAAA1IMeYUIAAICfKB9hQgAAAGvNH2FCAACANnIgYUIAAAACFyFhQgAAgM27IWFCAAAAmWAiYUIAAIBkBSNhQgAAADCqI2FCAACA+04kYUIAAADH8yRhQgAAgJKYJWFCAAAAXj0mYUIAAIAp4iZhQgAAAPWGJ2FCAACAwCsoYUIAAACM0ChhQgAAgFd1KWFCAAAAIxoqYUIAAIDuviphQgAAALpjK2FCAACAhQgsYUIAAABRrSxhQgAAgBxSLWFCAAAA6PYtYUIAAICzmy5hQgAAAH9AL2FCAACASuUvYUIAAAAWijBhQgAAgOEuMWFCAAAArdMxYUIAAIB4eDJhQgAAAEQdM2FCAACAD8IzYUIAAADbZjRhQgAAgKYLNWFCAAAAcrA1YUIAAIA9VTZhQgAAAAn6NmFCAACA1J43YUIAAACgQzhhQgAAgGvoOGFCAAAAN405YUIAAIACMjphQgAAAM7WOmFCAACAmXs7YUIAAABlIDxhQgAAgDDFPGFCAAAA/Gk9YUIAAIDHDj5hQgAAAJOzPmFCAACAXlg/YUIAAAAq/T9hQgAAgPWhQGFCAAAAwUZBYUIAAICM60FhQgAAAFiQQmFCAACAIzVDYUIAAADv2UNhQgAAgLp+RGFCAAAAhiNFYUIAAIBRyEVhQgAAAB1tRmFCAACA6BFHYUIAAAC0tkdhQgAAgH9bSGFCAAAASwBJYUIAAIAWpUlhQgAAAOJJSmFCAACAre5KYUIAAAB5k0thQgAAgEQ4TGFCAAAAEN1MYUIAAIDbgU1hQgAAAKcmTmFCAACAcstOYUIAAAA+cE9hQgAAgAkVUGFCAAAA1blQYUIAAICgXlFhQgAAAGwDUmFCAACAN6hSYUIAAAADTVNhQgAAgM7xU2FCAAAAmpZUYUIAAIBlO1VhQgAAADHgVWFCAACA/IRWYUIAAADIKVdhQgAAgJPOV2FCAAAAX3NYYUIAAIAqGFlhQgAAAPa8WWFCAACAwWFaYUIAAACNBlthQgAAgFirW2FCAAAAJFBcYUIAAIDv9FxhQgAAALuZXWFCAACAhj5eYUIAAABS415hQgAAgB2IX2FCAAAA6SxgYUIAAIC00WBhQgAAAIB2YWFCAACASxtiYUIAAAAXwGJhQgAAgOJkY2FCAAAArglkYUIAAIB5rmRhQgAAAEVTZWFCAACAEPhlYUIAAADcnGZhQgAAgKdBZ2FCAAAAc+ZnYUIAAIA+i2hhQgAAAAowaWFCAACA1dRpYUIAAACheWphQgAAgGwea2FCAAAAOMNrYUIAAIADaGxhQgAAAM8MbWFCAACAmrFtYUIAAABmVm5hQgAAgDH7bmFCAAAA/Z9vYUIAAIDIRHBhQgAAAJTpcGFCAACAX45xYUIAAAArM3JhQgAAAMJ8c2FCAACAjSF0YUIAAABZxnRhQgAAgCRrdWFCAAAA8A92YUIAAIC7tHZhQgAAAIdZd2FCAACAUv53YUIAAAAeo3hhQgAAgOlHeWFCAAAAtex5YUIAAICAkXphQgAAAEw2e2FCAACAF9t7YUIAAADjf3xhQgAAgK4kfWFCAAAAesl9YUIAAIBFbn5hQgAAABETf2FCAACA3Ld/YUIAAACoXIBhQgAAgHMBgWFCAAAAP6aBYUIAAIAKS4JhQgAAANbvgmFCAACAoZSDYUIAAABtOYRhQgAAgDjehGFCAAAABIOFYUIAAIDPJ4ZhQgAAAJvMhmFCAACAZnGHYUIAAAAyFohhQgAAgP26iGFCAAAAyV+JYUIAAICUBIphQgAAAGCpimFCAACAK06LYUIAAAD38othQgAAgMKXjGFCAAAAjjyNYUIAAIBZ4Y1hQgAAACWGjmFCAACA8CqPYUIAAAC8z49hQgAAgId0kGFCAAAAUxmRYUIAAIAevpFhQgAAAOpikmFCAACAtQeTYUIAAACBrJNhQgAAgExRlGFCAAAAGPaUYUIAAIDjmpVhQgAAAK8/lmFCAACAeuSWYUIAAABGiZdhQgAAgBEumGFCAAAA3dKYYUIAAICod5lhQgAAAHQcmmFCAACAP8GaYUIAAAALZpthQgAAgNYKnGFCAAAAoq+cYUIAAIBtVJ1hQgAAADn5nWFCAACABJ6eYUIAAADQQp9hQgAAgJvnn2FCAAAAZ4ygYUIAAIAyMaFhQgAAAP7VoWFCAACAyXqiYUIAAACVH6NhQgAAgGDEo2FCAAAALGmkYUIAAID3DaVhQgAAAMOypWFCAACAjlemYUIAAABa/KZhQgAAgCWhp2FCAAAA8UWoYUIAAIC86qhhQgAAAIiPqWFCAACAUzSqYUIAAAAf2aphQgAAgOp9q2FCAAAAtiKsYUIAAICBx6xhQgAAAE1srWFCAACAGBGuYUIAAADkta5hQgAAgK9ar2FCAAAAe/+vYUIAAIBGpLBhQgAAABJJsWFCAACA3e2xYUIAAACpkrJhQgAAgHQ3s2FCAAAAQNyzYUIAAIALgbRhQgAAANcltWFCAACAosq1YUIAAABub7ZhQgAAgDkUt2FCAAAABbm3YUIAAIDQXbhhQgAAAJwCuWFCAACAZ6e5YUIAAAAzTLphQgAAgP7wumFCAAAAypW7YUIAAICVOrxhQgAAAGHfvGFCAACALIS9YUIAAAD4KL5hQgAAgMPNvmFCAAAAj3K/YUIAAIBaF8BhQgAAACa8wGFCAACA8WDBYUIAAAC9BcJhQgAAgIiqwmFCAAAAVE/DYUIAAIAf9MNhQgAAAOuYxGFCAACAtj3FYUIAAACC4sVhQgAAgE2HxmFCAAAAGSzHYUIAAIDk0MdhQgAAALB1yGFCAACAexrJYUIAAABHv8lhQgAAgBJkymFCAAAA3gjLYUIAAICprcthQgAAAHVSzGFCAACAQPfMYUIAAAAMnM1hQgAAgNdAzmFCAAAAo+XOYUIAAIBuis9hQgAAADov0GFCAACABdTQYUIAAADReNFhQgAAgJwd0mFCAAAAaMLSYUIAAIAzZ9NhQgAAAP8L1GFCAACAyrDUYUIAAACWVdVhQgAAgGH61WFCAAAALZ/WYUIAAID4Q9dhQgAAAMTo12FCAACAj43YYUIAAABbMtlhQgAAgCbX2WFCAAAA8nvaYUIAAIC9INthQgAAAInF22FCAACAVGrcYUIAAAAgD91hQgAAgOuz3WFCAAAAt1jeYUIAAICC/d5hQgAAAE6i32FCAACAGUfgYUIAAADl6+BhQgAAgLCQ4WFCAAAAfDXiYUIAAIBH2uJhQgAAABN/42FCAACA3iPkYUIAAACqyORhQgAAgHVt5WFCAAAAQRLmYUIAAIAMt+ZhQgAAANhb52FCAACAowDoYUIAAABvpehhQgAAgDpK6WFCAAAABu/pYUIAAIDRk+phQgAAAJ0462FCAACAaN3rYUIAAAA0guxhQgAAgP8m7WFCAAAAy8vtYUIAAICWcO5hQgAAAGIV72FCAACALbrvYUIAAAD5XvBhQgAAgMQD8WFCAAAAkKjxYUIAAIBbTfJhQgAAACfy8mFCAACA8pbzYUIAAAC+O/RhQgAAgIng9GFCAAAAVYX1YUIAAIAgKvZhQgAAAOzO9mFCAACAt3P3YUIAAACDGPhhQgAAgE69+GFCAAAAGmL5YUIAAIDlBvphQgAAALGr+mFCAACAfFD7YUIAAABI9fthQgAAgBOa/GFCAAAA3z79YUIAAICq4/1hQgAAAHaI/mFCAACAQS3/YUIAAAAN0v9hQgAAgNh2AGJCAAAApBsBYkIAAIBvwAFiQgAAADtlAmJCAACABgoDYkIAAADSrgNiQgAAgJ1TBGJCAAAAafgEYkIAAIA0nQViQgAAAABCBmJCAACAy+YGYkIAAACXiwdiQgAAgGIwCGJCAAAALtUIYkIAAID5eQliQgAAAMUeCmJCAACAkMMKYkIAAABcaAtiQgAAgCcNDGJCAAAA87EMYkIAAIC+Vg1iQgAAAIr7DWJCAACAVaAOYkIAAAAhRQ9iQgAAgOzpD2JCAAAAuI4QYkIAAICDMxFiQgAAAE/YEWJCAACAGn0SYkIAAADmIRNiQgAAgLHGE2JCAAAAfWsUYkIAAIBIEBViQgAAABS1FWJCAACA31kWYkIAAACr/hZiQgAAgHajF2JCAAAAQkgYYkIAAIAN7RhiQgAAANmRGWJCAACApDYaYkIAAABw2xpiQgAAgDuAG2JCAAAAByUcYkIAAIDSyRxiQgAAAJ5uHWJCAACAaRMeYkIAAAA1uB5iQgAAgABdH2JCAAAAzAEgYkIAAICXpiBiQgAAAGNLIWJCAACALvAhYkIAAAD6lCJiQgAAgMU5I2JCAAAAkd4jYkIAAIBcgyRiQgAAACgoJWJCAACA88wlYkIAAAC/cSZiQgAAgIoWJ2JCAAAAVrsnYkIAAIAhYChiQgAAAO0EKWJCAACAuKkpYkIAAACETipiQgAAgE/zKmJCAAAAG5grYkIAAIDmPCxiQgAAALLhLGJCAACAfYYtYkIAAABJKy5iQgAAgBTQLmJCAAAA4HQvYkIAAICrGTBiQgAAAHe+MGJCAACAQmMxYkIAAAAOCDJiQgAAgNmsMmJCAAAApVEzYkIAAIBw9jNiQgAAADybNGJCAACAB0A1YkIAAADT5DViQgAAgJ6JNmJCAAAAai43YkIAAIA10zdiQgAAAAF4OGJCAACAzBw5YkIAAACYwTliQgAAgGNmOmJCAAAALws7YkIAAID6rztiQgAAAMZUPGJCAACAkfk8YkIAAABdnj1iQgAAgChDPmJCAAAA9Oc+YkIAAIC/jD9iQgAAAIsxQGJCAACAVtZAYkIAAAAie0FiQgAAgO0fQmJCAAAAucRCYkIAAICEaUNiQgAAAFAORGJCAACAG7NEYkIAAADnV0ViQgAAgLL8RWJCAAAAfqFGYkIAAIBJRkdiQgAAABXrR2JCAACA4I9IYkIAAACsNEliQgAAgHfZSWJCAAAAQ35KYkIAAIAOI0tiQgAAANrHS2JCAACApWxMYkIAAABxEU1iQgAAgDy2TWJCAAAACFtOYkIAAIDT/05iQgAAAJ+kT2JCAACAaklQYkIAAAA27lBiQgAAgAGTUWJCAAAAzTdSYkIAAICY3FJiQgAAAGSBU2JCAACALyZUYkIAAAD7ylRiQgAAgMZvVWJCAAAAkhRWYkIAAIBduVZiQgAAACleV2JCAACA9AJYYkIAAADAp1hiQgAAgItMWWJCAAAAV/FZYkIAAIAillpiQgAAAO46W2JCAACAud9bYkIAAACFhFxiQgAAgFApXWJCAAAAHM5dYkIAAIDncl5iQgAAALMXX2JCAACAfrxfYkIAAABKYWBiQgAAgBUGYWJCAAAA4aphYkIAAICsT2JiQgAAAHj0YmJCAACAQ5ljYkIAAAAPPmRiQgAAgNriZGJCAAAApodlYkIAAIBxLGZiQgAAAD3RZmJCAACACHZnYkIAAADUGmhiQgAAgJ+/aGJCAAAAa2RpYkIAAIA2CWpiQgAAAAKuamJCAACAzVJrYkIAAACZ92tiQgAAgGScbGJCAAAAMEFtYkIAAID75W1iQgAAAMeKbmJCAACAki9vYkIAAABe1G9iQgAAgCl5cGJCAAAA9R1xYkIAAIDAwnFiQgAAAIxncmJCAACAVwxzYkIAAAAjsXNiQgAAgO5VdGJCAAAAuvp0YkIAAICFn3ViQgAAAFFEdmJCAACAHOl2YkIAAADojXdiQgAAgLMyeGJCAAAAf9d4YkIAAIBKfHliQgAAABYhemJCAACA4cV6YkIAAACtantiQgAAgHgPfGJCAAAARLR8YkIAAIAPWX1iQgAAANv9fWJCAACApqJ+YkIAAAByR39iQgAAgD3sf2JCAAAACZGAYkIAAIDUNYFiQgAAAKDagWJCAACAa3+CYkIAAAA3JINiQgAAgALJg2JCAAAAzm2EYkIAAICZEoViQgAAAGW3hWJCAACAMFyGYkIAAAD8AIdiQgAAgMelh2JCAAAAk0qIYkIAAIBe74hiQgAAACqUiWJCAACA9TiKYkIAAADB3YpiQgAAgIyCi2JCAAAAWCeMYkIAAIAjzIxiQgAAAO9wjWJCAACAuhWOYkIAAACGuo5iQgAAgFFfj2JCAAAAHQSQYkIAAIDoqJBiQgAAALRNkWJCAACAf/KRYkIAAABLl5JiQgAAgBY8k2JCAAAA4uCTYkIAAICthZRiQgAAAHkqlWJCAACARM+VYkIAAAAQdJZiQgAAgNsYl2JCAAAAp72XYkIAAIByYphiQgAAAD4HmWJCAACACayZYkIAAADVUJpiQgAAgKD1mmJCAAAAbJqbYkIAAIA3P5xiQgAAAAPknGJCAACAzoidYkIAAACaLZ5iQgAAgGXSnmJCAAAAMXefYkIAAID8G6BiQgAAAMjAoGJCAACAk2WhYkIAAABfCqJiQgAAgCqvomJCAAAA9lOjYkIAAIDB+KNiQgAAAI2dpGJCAACAWEKlYkIAAAAk56ViQgAAgO+LpmJCAAAAuzCnYkIAAICG1adiQgAAAFJ6qGJCAACAHR+pYkIAAADpw6liQgAAgLRoqmJCAAAAgA2rYkIAAIBLsqtiQgAAABdXrGJCAACA4vusYkIAAACuoK1iQgAAgHlFrmJCAAAARequYkIAAIAQj69iQgAAANwzsGJCAACAp9iwYkIAAABzfbFiQgAAgD4ismJCAAAACseyYkIAAIDVa7NiQgAAAKEQtGJCAACAbLW0YkIAAAA4WrViQgAAgAP/tWJCAAAAz6O2YkIAAICaSLdiQgAAAGbtt2JCAACAMZK4YkIAAAD9NrliQgAAgMjbuWJCAAAAlIC6YkIAAIBfJbtiQgAAACvKu2JCAACA9m68YkIAAADCE71iQgAAgI24vWJCAAAAWV2+YkIAAIAkAr9iQgAAAPCmv2JCAACAu0vAYkIAAACH8MBiQgAAgFKVwWJCAAAAHjrCYkIAAIDp3sJiQgAAALWDw2JCAACAgCjEYkIAAABMzcRiQgAAgBdyxWJCAAAA4xbGYkIAAICuu8ZiQgAAAHpgx2JCAACARQXIYkIAAAARqshiQgAAgNxOyWJCAAAAqPPJYkIAAIBzmMpiQgAAAD89y2JCAACACuLLYkIAAADWhsxiQgAAgKErzWJCAAAAbdDNYkIAAIA4dc5iQgAAAAQaz2JCAACAz77PYkIAAACbY9BiQgAAgGYI0WJCAAAAMq3RYkIAAID9UdJiQgAAAMn20mJCAACAlJvTYkIAAABgQNRiQgAAgCvl1GJCAAAA94nVYkIAAIDCLtZiQgAAAI7T1mJCAACAWXjXYkIAAAAlHdhiQgAAgPDB2GJCAAAAvGbZYkIAAICHC9piQgAAAFOw2mJCAACAHlXbYkIAAADq+dtiQgAAgLWe3GJCAAAAgUPdYkIAAIBM6N1iQgAAABiN3mJCAACA4zHfYkIAAACv1t9iQgAAgHp74GJCAAAARiDhYkIAAIARxeFiQgAAAN1p4mJCAACAqA7jYkIAAAB0s+NiQgAAgD9Y5GJCAAAAC/3kYkIAAIDWoeViQgAAAKJG5mJCAACAbevmYkIAAAA5kOdiQgAAgAQ16GJCAAAA0NnoYkIAAICbfuliQgAAAGcj6mJCAACAMsjqYkIAAAD+bOtiQgAAgMkR7GJCAAAAlbbsYkIAAIBgW+1iQgAAACwA7mJCAACA96TuYkIAAADDSe9iQgAAgI7u72JCAAAAWpPwYkIAAIAlOPFiQgAAAPHc8WJCAACAvIHyYkIAAACIJvNiQgAAgFPL82JCAAAAH3D0YkIAAIDqFPViQgAAALa59WJCAACAgV72YkIAAABNA/diQgAAgBio92JCAAAA5Ez4YkIAAICv8fhiQgAAAHuW+WJCAACARjv6YkIAAAAS4PpiQgAAgN2E+2JCAAAAqSn8YkIAAIB0zvxiQgAAAEBz/WJCAACACxj+YkIAAADXvP5iQgAAgKJh/2JCAAAAbgYAY0IAAIA5qwBjQgAAAAVQAWNCAACA0PQBY0IAAACcmQJjQgAAgGc+A2NCAAAAM+MDY0IAAID+hwRjQgAAAMosBWNCAACAldEFY0IAAABhdgZjQgAAgCwbB2NCAAAA+L8HY0IAAIDDZAhjQgAAAI8JCWNCAACAWq4JY0IAAAAmUwpjQgAAgPH3CmNCAAAAvZwLY0IAAICIQQxjQgAAAFTmDGNCAACAH4sNY0IAAADrLw5jQgAAgLbUDmNCAAAAgnkPY0IAAIBNHhBjQgAAABnDEGNCAACA5GcRY0IAAACwDBJjQgAAgHuxEmNCAAAAR1YTY0IAAIAS+xNjQgAAAN6fFGNCAACAqUQVY0IAAAB16RVjQgAAgECOFmNCAAAADDMXY0IAAIDX1xdjQgAAAKN8GGNCAACAbiEZY0IAAAA6xhljQgAAgAVrGmNCAAAA0Q8bY0IAAICctBtjQgAAAGhZHGNCAACAM/4cY0IAAAD/oh1jQgAAgMpHHmNCAAAAluweY0IAAIBhkR9jQgAAAC02IGNCAACA+NogY0IAAADEfyFjQgAAgI8kImNCAAAAW8kiY0IAAIAmbiNjQgAAAPISJGNCAACAvbckY0IAAACJXCVjQgAAgFQBJmNCAAAAIKYmY0IAAIDrSidjQgAAALfvJ2NCAACAgpQoY0IAAABOOSljQgAAgBneKWNCAAAA5YIqY0IAAICwJytjQgAAAHzMK2NCAACAR3EsY0IAAAATFi1jQgAAgN66LWNCAAAAql8uY0IAAIB1BC9jQgAAAEGpL2NCAACADE4wY0IAAADY8jBjQgAAgKOXMWNCAAAAbzwyY0IAAIA64TJjQgAAAAaGM2NCAACA0So0Y0IAAACdzzRjQgAAgGh0NWNCAAAANBk2Y0IAAID/vTZjQgAAAMtiN2NCAACAlgc4Y0IAAABirDhjQgAAgC1ROWNCAAAA+fU5Y0IAAIDEmjpjQgAAAJA/O2NCAACAW+Q7Y0IAAAAniTxjQgAAgPItPWNCAAAAvtI9Y0IAAICJdz5jQgAAAFUcP2NCAACAIME/Y0IAAADsZUBjQgAAgLcKQWNCAAAAg69BY0IAAIBOVEJjQgAAABr5QmNCAACA5Z1DY0IAAACxQkRjQgAAgHznRGNCAAAASIxFY0IAAIATMUZjQgAAAN/VRmNCAACAqnpHY0IAAAB2H0hjQgAAgEHESGNC\",\"dtype\":\"float64\",\"order\":\"little\",\"shape\":[1095]},\"y\":{\"__ndarray__\":\"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\",\"dtype\":\"float64\",\"order\":\"little\",\"shape\":[1095]}},\"selected\":{\"id\":\"1532\"},\"selection_policy\":{\"id\":\"1531\"}},\"id\":\"1456\",\"type\":\"ColumnDataSource\"},{\"attributes\":{\"mantissas\":[1,2,5],\"max_interval\":500.0,\"num_minor_ticks\":0},\"id\":\"1517\",\"type\":\"AdaptiveTicker\"},{\"attributes\":{\"axis_label\":\"value\",\"formatter\":{\"id\":\"1512\"},\"major_label_policy\":{\"id\":\"1510\"},\"ticker\":{\"id\":\"1431\"}},\"id\":\"1430\",\"type\":\"LinearAxis\"},{\"attributes\":{\"source\":{\"id\":\"1456\"}},\"id\":\"1460\",\"type\":\"CDSView\"},{\"attributes\":{\"data_source\":{\"id\":\"1456\"},\"glyph\":{\"id\":\"1457\"},\"hover_glyph\":null,\"muted_glyph\":null,\"nonselection_glyph\":{\"id\":\"1458\"},\"view\":{\"id\":\"1460\"}},\"id\":\"1459\",\"type\":\"GlyphRenderer\"},{\"attributes\":{\"months\":[0,2,4,6,8,10]},\"id\":\"1525\",\"type\":\"MonthsTicker\"},{\"attributes\":{\"days\":[1,4,7,10,13,16,19,22,25,28]},\"id\":\"1521\",\"type\":\"DaysTicker\"},{\"attributes\":{\"active_multi\":null,\"active_scroll\":{\"id\":\"1435\"},\"tools\":[{\"id\":\"1434\"},{\"id\":\"1435\"},{\"id\":\"1436\"},{\"id\":\"1437\"},{\"id\":\"1438\"},{\"id\":\"1439\"},{\"id\":\"1414\"}]},\"id\":\"1442\",\"type\":\"Toolbar\"},{\"attributes\":{},\"id\":\"1513\",\"type\":\"AllLabels\"},{\"attributes\":{\"axis_label\":\"time\",\"formatter\":{\"id\":\"1413\"},\"major_label_policy\":{\"id\":\"1513\"},\"ticker\":{\"id\":\"1427\"}},\"id\":\"1426\",\"type\":\"DatetimeAxis\"}],\"root_ids\":[\"1415\"]},\"title\":\"Bokeh Application\",\"version\":\"2.3.0\"}};\n",
       "  var render_items = [{\"docid\":\"a897d9d2-cb66-44d3-8529-63043b4f35be\",\"root_ids\":[\"1415\"],\"roots\":{\"1415\":\"8e765006-98d0-4c00-bbad-be4aa9b0de6a\"}}];\n",
       "  root.Bokeh.embed.embed_items_notebook(docs_json, render_items);\n",
       "\n",
       "  }\n",
       "  if (root.Bokeh !== undefined) {\n",
       "    embed_document(root);\n",
       "  } else {\n",
       "    var attempts = 0;\n",
       "    var timer = setInterval(function(root) {\n",
       "      if (root.Bokeh !== undefined) {\n",
       "        clearInterval(timer);\n",
       "        embed_document(root);\n",
       "      } else {\n",
       "        attempts++;\n",
       "        if (attempts > 100) {\n",
       "          clearInterval(timer);\n",
       "          console.log(\"Bokeh: ERROR: Unable to run BokehJS code because BokehJS library is missing\");\n",
       "        }\n",
       "      }\n",
       "    }, 10, root)\n",
       "  }\n",
       "})(window);"
      ],
      "application/vnd.bokehjs_exec.v0+json": ""
     },
     "metadata": {
      "application/vnd.bokehjs_exec.v0+json": {
       "id": "1415"
      }
     },
     "output_type": "display_data"
    }
   ],
   "source": [
    "plot_ts(ts_test, preds)"
   ]
  },
  {
   "cell_type": "code",
   "execution_count": 77,
   "id": "hungarian-ministry",
   "metadata": {},
   "outputs": [
    {
     "data": {
      "text/plain": [
       "5.632326641713649"
      ]
     },
     "execution_count": 77,
     "metadata": {},
     "output_type": "execute_result"
    }
   ],
   "source": [
    "mse(ts_test, preds)"
   ]
  },
  {
   "cell_type": "markdown",
   "id": "separated-navigation",
   "metadata": {},
   "source": []
  }
 ],
 "metadata": {
  "kernelspec": {
   "display_name": "Python 3",
   "language": "python",
   "name": "python3"
  },
  "language_info": {
   "codemirror_mode": {
    "name": "ipython",
    "version": 3
   },
   "file_extension": ".py",
   "mimetype": "text/x-python",
   "name": "python",
   "nbconvert_exporter": "python",
   "pygments_lexer": "ipython3",
   "version": "3.8.2"
  }
 },
 "nbformat": 4,
 "nbformat_minor": 5
}
